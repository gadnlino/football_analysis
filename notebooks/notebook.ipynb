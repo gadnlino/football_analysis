{
  "cells": [
    {
      "cell_type": "code",
      "execution_count": 3,
      "metadata": {
        "colab": {
          "base_uri": "https://localhost:8080/",
          "height": 1000
        },
        "id": "1C1hXanoxVxZ",
        "outputId": "d66ba77e-682d-4826-9ef6-95d60afc3a11"
      },
      "outputs": [
        {
          "name": "stdout",
          "output_type": "stream",
          "text": [
            "Requirement already satisfied: sdv in c:\\python311\\lib\\site-packages (0.0.0)\n",
            "Note: you may need to restart the kernel to use updated packages.\n",
            "Collecting matplotlib==3.1.3\n",
            "  Using cached matplotlib-3.1.3.tar.gz (40.9 MB)\n",
            "  Preparing metadata (setup.py): started\n",
            "  Preparing metadata (setup.py): finished with status 'done'\n",
            "Requirement already satisfied: cycler>=0.10 in c:\\python311\\lib\\site-packages (from matplotlib==3.1.3) (0.11.0)\n",
            "Requirement already satisfied: kiwisolver>=1.0.1 in c:\\python311\\lib\\site-packages (from matplotlib==3.1.3) (1.4.4)\n",
            "Requirement already satisfied: pyparsing!=2.0.4,!=2.1.2,!=2.1.6,>=2.0.1 in c:\\python311\\lib\\site-packages (from matplotlib==3.1.3) (3.0.9)\n",
            "Requirement already satisfied: python-dateutil>=2.1 in c:\\python311\\lib\\site-packages (from matplotlib==3.1.3) (2.8.2)\n",
            "Requirement already satisfied: numpy>=1.11 in c:\\python311\\lib\\site-packages (from matplotlib==3.1.3) (1.23.4)\n",
            "Requirement already satisfied: six>=1.5 in c:\\python311\\lib\\site-packages (from python-dateutil>=2.1->matplotlib==3.1.3) (1.16.0)\n",
            "Installing collected packages: matplotlib\n",
            "  Running setup.py install for matplotlib: started\n",
            "  Running setup.py install for matplotlib: finished with status 'error'\n",
            "Note: you may need to restart the kernel to use updated packages.\n"
          ]
        },
        {
          "name": "stderr",
          "output_type": "stream",
          "text": [
            "  DEPRECATION: matplotlib is being installed using the legacy 'setup.py install' method, because it does not have a 'pyproject.toml' and the 'wheel' package is not installed. pip 23.1 will enforce this behaviour change. A possible replacement is to enable the '--use-pep517' option. Discussion can be found at https://github.com/pypa/pip/issues/8559\n",
            "  error: subprocess-exited-with-error\n",
            "  \n",
            "  × Running setup.py install for matplotlib did not run successfully.\n",
            "  │ exit code: 1\n",
            "  ╰─> [503 lines of output]\n",
            "      ================================================================================\n",
            "      Edit setup.cfg to change the build options\n",
            "      \n",
            "      BUILDING MATPLOTLIB\n",
            "        matplotlib: yes [3.1.3]\n",
            "            python: yes [3.11.0 (main, Oct 24 2022, 18:26:48) [MSC v.1933 64 bit\n",
            "                        (AMD64)]]\n",
            "          platform: yes [win32]\n",
            "      \n",
            "      OPTIONAL SUBPACKAGES\n",
            "       sample_data: yes [installing]\n",
            "             tests: no  [skipping due to configuration]\n",
            "      \n",
            "      OPTIONAL BACKEND EXTENSIONS\n",
            "               agg: yes [installing]\n",
            "             tkagg: yes [installing; run-time loading from Python Tcl/Tk]\n",
            "            macosx: no  [Mac OS-X only]\n",
            "      \n",
            "      OPTIONAL PACKAGE DATA\n",
            "              dlls: no  [skipping due to configuration]\n",
            "      \n",
            "      c:\\Python311\\Lib\\site-packages\\setuptools\\dist.py:286: SetuptoolsDeprecationWarning: The namespace_packages parameter is deprecated, consider using implicit namespaces instead (PEP 420).\n",
            "        warnings.warn(msg, SetuptoolsDeprecationWarning)\n",
            "      running install\n",
            "      c:\\Python311\\Lib\\site-packages\\setuptools\\command\\install.py:34: SetuptoolsDeprecationWarning: setup.py install is deprecated. Use build and pip and other standards-based tools.\n",
            "        warnings.warn(\n",
            "      running build\n",
            "      running build_py\n",
            "      creating build\n",
            "      creating build\\lib.win-amd64-cpython-311\n",
            "      copying lib\\pylab.py -> build\\lib.win-amd64-cpython-311\n",
            "      creating build\\lib.win-amd64-cpython-311\\matplotlib\n",
            "      copying lib\\matplotlib\\afm.py -> build\\lib.win-amd64-cpython-311\\matplotlib\n",
            "      copying lib\\matplotlib\\animation.py -> build\\lib.win-amd64-cpython-311\\matplotlib\n",
            "      copying lib\\matplotlib\\artist.py -> build\\lib.win-amd64-cpython-311\\matplotlib\n",
            "      copying lib\\matplotlib\\axis.py -> build\\lib.win-amd64-cpython-311\\matplotlib\n",
            "      copying lib\\matplotlib\\backend_bases.py -> build\\lib.win-amd64-cpython-311\\matplotlib\n",
            "      copying lib\\matplotlib\\backend_managers.py -> build\\lib.win-amd64-cpython-311\\matplotlib\n",
            "      copying lib\\matplotlib\\backend_tools.py -> build\\lib.win-amd64-cpython-311\\matplotlib\n",
            "      copying lib\\matplotlib\\bezier.py -> build\\lib.win-amd64-cpython-311\\matplotlib\n",
            "      copying lib\\matplotlib\\blocking_input.py -> build\\lib.win-amd64-cpython-311\\matplotlib\n",
            "      copying lib\\matplotlib\\category.py -> build\\lib.win-amd64-cpython-311\\matplotlib\n",
            "      copying lib\\matplotlib\\cm.py -> build\\lib.win-amd64-cpython-311\\matplotlib\n",
            "      copying lib\\matplotlib\\collections.py -> build\\lib.win-amd64-cpython-311\\matplotlib\n",
            "      copying lib\\matplotlib\\colorbar.py -> build\\lib.win-amd64-cpython-311\\matplotlib\n",
            "      copying lib\\matplotlib\\colors.py -> build\\lib.win-amd64-cpython-311\\matplotlib\n",
            "      copying lib\\matplotlib\\container.py -> build\\lib.win-amd64-cpython-311\\matplotlib\n",
            "      copying lib\\matplotlib\\contour.py -> build\\lib.win-amd64-cpython-311\\matplotlib\n",
            "      copying lib\\matplotlib\\dates.py -> build\\lib.win-amd64-cpython-311\\matplotlib\n",
            "      copying lib\\matplotlib\\docstring.py -> build\\lib.win-amd64-cpython-311\\matplotlib\n",
            "      copying lib\\matplotlib\\dviread.py -> build\\lib.win-amd64-cpython-311\\matplotlib\n",
            "      copying lib\\matplotlib\\figure.py -> build\\lib.win-amd64-cpython-311\\matplotlib\n",
            "      copying lib\\matplotlib\\fontconfig_pattern.py -> build\\lib.win-amd64-cpython-311\\matplotlib\n",
            "      copying lib\\matplotlib\\font_manager.py -> build\\lib.win-amd64-cpython-311\\matplotlib\n",
            "      copying lib\\matplotlib\\gridspec.py -> build\\lib.win-amd64-cpython-311\\matplotlib\n",
            "      copying lib\\matplotlib\\hatch.py -> build\\lib.win-amd64-cpython-311\\matplotlib\n",
            "      copying lib\\matplotlib\\image.py -> build\\lib.win-amd64-cpython-311\\matplotlib\n",
            "      copying lib\\matplotlib\\legend.py -> build\\lib.win-amd64-cpython-311\\matplotlib\n",
            "      copying lib\\matplotlib\\legend_handler.py -> build\\lib.win-amd64-cpython-311\\matplotlib\n",
            "      copying lib\\matplotlib\\lines.py -> build\\lib.win-amd64-cpython-311\\matplotlib\n",
            "      copying lib\\matplotlib\\markers.py -> build\\lib.win-amd64-cpython-311\\matplotlib\n",
            "      copying lib\\matplotlib\\mathtext.py -> build\\lib.win-amd64-cpython-311\\matplotlib\n",
            "      copying lib\\matplotlib\\mlab.py -> build\\lib.win-amd64-cpython-311\\matplotlib\n",
            "      copying lib\\matplotlib\\offsetbox.py -> build\\lib.win-amd64-cpython-311\\matplotlib\n",
            "      copying lib\\matplotlib\\patches.py -> build\\lib.win-amd64-cpython-311\\matplotlib\n",
            "      copying lib\\matplotlib\\path.py -> build\\lib.win-amd64-cpython-311\\matplotlib\n",
            "      copying lib\\matplotlib\\patheffects.py -> build\\lib.win-amd64-cpython-311\\matplotlib\n",
            "      copying lib\\matplotlib\\pylab.py -> build\\lib.win-amd64-cpython-311\\matplotlib\n",
            "      copying lib\\matplotlib\\pyplot.py -> build\\lib.win-amd64-cpython-311\\matplotlib\n",
            "      copying lib\\matplotlib\\quiver.py -> build\\lib.win-amd64-cpython-311\\matplotlib\n",
            "      copying lib\\matplotlib\\rcsetup.py -> build\\lib.win-amd64-cpython-311\\matplotlib\n",
            "      copying lib\\matplotlib\\sankey.py -> build\\lib.win-amd64-cpython-311\\matplotlib\n",
            "      copying lib\\matplotlib\\scale.py -> build\\lib.win-amd64-cpython-311\\matplotlib\n",
            "      copying lib\\matplotlib\\spines.py -> build\\lib.win-amd64-cpython-311\\matplotlib\n",
            "      copying lib\\matplotlib\\stackplot.py -> build\\lib.win-amd64-cpython-311\\matplotlib\n",
            "      copying lib\\matplotlib\\streamplot.py -> build\\lib.win-amd64-cpython-311\\matplotlib\n",
            "      copying lib\\matplotlib\\table.py -> build\\lib.win-amd64-cpython-311\\matplotlib\n",
            "      copying lib\\matplotlib\\texmanager.py -> build\\lib.win-amd64-cpython-311\\matplotlib\n",
            "      copying lib\\matplotlib\\text.py -> build\\lib.win-amd64-cpython-311\\matplotlib\n",
            "      copying lib\\matplotlib\\textpath.py -> build\\lib.win-amd64-cpython-311\\matplotlib\n",
            "      copying lib\\matplotlib\\ticker.py -> build\\lib.win-amd64-cpython-311\\matplotlib\n",
            "      copying lib\\matplotlib\\tight_bbox.py -> build\\lib.win-amd64-cpython-311\\matplotlib\n",
            "      copying lib\\matplotlib\\tight_layout.py -> build\\lib.win-amd64-cpython-311\\matplotlib\n",
            "      copying lib\\matplotlib\\transforms.py -> build\\lib.win-amd64-cpython-311\\matplotlib\n",
            "      copying lib\\matplotlib\\type1font.py -> build\\lib.win-amd64-cpython-311\\matplotlib\n",
            "      copying lib\\matplotlib\\units.py -> build\\lib.win-amd64-cpython-311\\matplotlib\n",
            "      copying lib\\matplotlib\\widgets.py -> build\\lib.win-amd64-cpython-311\\matplotlib\n",
            "      copying lib\\matplotlib\\_animation_data.py -> build\\lib.win-amd64-cpython-311\\matplotlib\n",
            "      copying lib\\matplotlib\\_cm.py -> build\\lib.win-amd64-cpython-311\\matplotlib\n",
            "      copying lib\\matplotlib\\_cm_listed.py -> build\\lib.win-amd64-cpython-311\\matplotlib\n",
            "      copying lib\\matplotlib\\_color_data.py -> build\\lib.win-amd64-cpython-311\\matplotlib\n",
            "      copying lib\\matplotlib\\_constrained_layout.py -> build\\lib.win-amd64-cpython-311\\matplotlib\n",
            "      copying lib\\matplotlib\\_layoutbox.py -> build\\lib.win-amd64-cpython-311\\matplotlib\n",
            "      copying lib\\matplotlib\\_mathtext_data.py -> build\\lib.win-amd64-cpython-311\\matplotlib\n",
            "      copying lib\\matplotlib\\_pylab_helpers.py -> build\\lib.win-amd64-cpython-311\\matplotlib\n",
            "      copying lib\\matplotlib\\_version.py -> build\\lib.win-amd64-cpython-311\\matplotlib\n",
            "      copying lib\\matplotlib\\__init__.py -> build\\lib.win-amd64-cpython-311\\matplotlib\n",
            "      creating build\\lib.win-amd64-cpython-311\\mpl_toolkits\n",
            "      copying lib\\mpl_toolkits\\__init__.py -> build\\lib.win-amd64-cpython-311\\mpl_toolkits\n",
            "      creating build\\lib.win-amd64-cpython-311\\matplotlib\\axes\n",
            "      copying lib\\matplotlib\\axes\\_axes.py -> build\\lib.win-amd64-cpython-311\\matplotlib\\axes\n",
            "      copying lib\\matplotlib\\axes\\_base.py -> build\\lib.win-amd64-cpython-311\\matplotlib\\axes\n",
            "      copying lib\\matplotlib\\axes\\_secondary_axes.py -> build\\lib.win-amd64-cpython-311\\matplotlib\\axes\n",
            "      copying lib\\matplotlib\\axes\\_subplots.py -> build\\lib.win-amd64-cpython-311\\matplotlib\\axes\n",
            "      copying lib\\matplotlib\\axes\\__init__.py -> build\\lib.win-amd64-cpython-311\\matplotlib\\axes\n",
            "      creating build\\lib.win-amd64-cpython-311\\matplotlib\\backends\n",
            "      copying lib\\matplotlib\\backends\\backend_agg.py -> build\\lib.win-amd64-cpython-311\\matplotlib\\backends\n",
            "      copying lib\\matplotlib\\backends\\backend_cairo.py -> build\\lib.win-amd64-cpython-311\\matplotlib\\backends\n",
            "      copying lib\\matplotlib\\backends\\backend_gtk3.py -> build\\lib.win-amd64-cpython-311\\matplotlib\\backends\n",
            "      copying lib\\matplotlib\\backends\\backend_gtk3agg.py -> build\\lib.win-amd64-cpython-311\\matplotlib\\backends\n",
            "      copying lib\\matplotlib\\backends\\backend_gtk3cairo.py -> build\\lib.win-amd64-cpython-311\\matplotlib\\backends\n",
            "      copying lib\\matplotlib\\backends\\backend_macosx.py -> build\\lib.win-amd64-cpython-311\\matplotlib\\backends\n",
            "      copying lib\\matplotlib\\backends\\backend_mixed.py -> build\\lib.win-amd64-cpython-311\\matplotlib\\backends\n",
            "      copying lib\\matplotlib\\backends\\backend_nbagg.py -> build\\lib.win-amd64-cpython-311\\matplotlib\\backends\n",
            "      copying lib\\matplotlib\\backends\\backend_pdf.py -> build\\lib.win-amd64-cpython-311\\matplotlib\\backends\n",
            "      copying lib\\matplotlib\\backends\\backend_pgf.py -> build\\lib.win-amd64-cpython-311\\matplotlib\\backends\n",
            "      copying lib\\matplotlib\\backends\\backend_ps.py -> build\\lib.win-amd64-cpython-311\\matplotlib\\backends\n",
            "      copying lib\\matplotlib\\backends\\backend_qt4.py -> build\\lib.win-amd64-cpython-311\\matplotlib\\backends\n",
            "      copying lib\\matplotlib\\backends\\backend_qt4agg.py -> build\\lib.win-amd64-cpython-311\\matplotlib\\backends\n",
            "      copying lib\\matplotlib\\backends\\backend_qt4cairo.py -> build\\lib.win-amd64-cpython-311\\matplotlib\\backends\n",
            "      copying lib\\matplotlib\\backends\\backend_qt5.py -> build\\lib.win-amd64-cpython-311\\matplotlib\\backends\n",
            "      copying lib\\matplotlib\\backends\\backend_qt5agg.py -> build\\lib.win-amd64-cpython-311\\matplotlib\\backends\n",
            "      copying lib\\matplotlib\\backends\\backend_qt5cairo.py -> build\\lib.win-amd64-cpython-311\\matplotlib\\backends\n",
            "      copying lib\\matplotlib\\backends\\backend_svg.py -> build\\lib.win-amd64-cpython-311\\matplotlib\\backends\n",
            "      copying lib\\matplotlib\\backends\\backend_template.py -> build\\lib.win-amd64-cpython-311\\matplotlib\\backends\n",
            "      copying lib\\matplotlib\\backends\\backend_tkagg.py -> build\\lib.win-amd64-cpython-311\\matplotlib\\backends\n",
            "      copying lib\\matplotlib\\backends\\backend_tkcairo.py -> build\\lib.win-amd64-cpython-311\\matplotlib\\backends\n",
            "      copying lib\\matplotlib\\backends\\backend_webagg.py -> build\\lib.win-amd64-cpython-311\\matplotlib\\backends\n",
            "      copying lib\\matplotlib\\backends\\backend_webagg_core.py -> build\\lib.win-amd64-cpython-311\\matplotlib\\backends\n",
            "      copying lib\\matplotlib\\backends\\backend_wx.py -> build\\lib.win-amd64-cpython-311\\matplotlib\\backends\n",
            "      copying lib\\matplotlib\\backends\\backend_wxagg.py -> build\\lib.win-amd64-cpython-311\\matplotlib\\backends\n",
            "      copying lib\\matplotlib\\backends\\backend_wxcairo.py -> build\\lib.win-amd64-cpython-311\\matplotlib\\backends\n",
            "      copying lib\\matplotlib\\backends\\qt_compat.py -> build\\lib.win-amd64-cpython-311\\matplotlib\\backends\n",
            "      copying lib\\matplotlib\\backends\\tkagg.py -> build\\lib.win-amd64-cpython-311\\matplotlib\\backends\n",
            "      copying lib\\matplotlib\\backends\\windowing.py -> build\\lib.win-amd64-cpython-311\\matplotlib\\backends\n",
            "      copying lib\\matplotlib\\backends\\wx_compat.py -> build\\lib.win-amd64-cpython-311\\matplotlib\\backends\n",
            "      copying lib\\matplotlib\\backends\\_backend_pdf_ps.py -> build\\lib.win-amd64-cpython-311\\matplotlib\\backends\n",
            "      copying lib\\matplotlib\\backends\\_backend_tk.py -> build\\lib.win-amd64-cpython-311\\matplotlib\\backends\n",
            "      copying lib\\matplotlib\\backends\\__init__.py -> build\\lib.win-amd64-cpython-311\\matplotlib\\backends\n",
            "      creating build\\lib.win-amd64-cpython-311\\matplotlib\\cbook\n",
            "      copying lib\\matplotlib\\cbook\\deprecation.py -> build\\lib.win-amd64-cpython-311\\matplotlib\\cbook\n",
            "      copying lib\\matplotlib\\cbook\\__init__.py -> build\\lib.win-amd64-cpython-311\\matplotlib\\cbook\n",
            "      creating build\\lib.win-amd64-cpython-311\\matplotlib\\compat\n",
            "      copying lib\\matplotlib\\compat\\subprocess.py -> build\\lib.win-amd64-cpython-311\\matplotlib\\compat\n",
            "      copying lib\\matplotlib\\compat\\__init__.py -> build\\lib.win-amd64-cpython-311\\matplotlib\\compat\n",
            "      creating build\\lib.win-amd64-cpython-311\\matplotlib\\projections\n",
            "      copying lib\\matplotlib\\projections\\geo.py -> build\\lib.win-amd64-cpython-311\\matplotlib\\projections\n",
            "      copying lib\\matplotlib\\projections\\polar.py -> build\\lib.win-amd64-cpython-311\\matplotlib\\projections\n",
            "      copying lib\\matplotlib\\projections\\__init__.py -> build\\lib.win-amd64-cpython-311\\matplotlib\\projections\n",
            "      creating build\\lib.win-amd64-cpython-311\\matplotlib\\sphinxext\n",
            "      copying lib\\matplotlib\\sphinxext\\mathmpl.py -> build\\lib.win-amd64-cpython-311\\matplotlib\\sphinxext\n",
            "      copying lib\\matplotlib\\sphinxext\\plot_directive.py -> build\\lib.win-amd64-cpython-311\\matplotlib\\sphinxext\n",
            "      copying lib\\matplotlib\\sphinxext\\__init__.py -> build\\lib.win-amd64-cpython-311\\matplotlib\\sphinxext\n",
            "      creating build\\lib.win-amd64-cpython-311\\matplotlib\\style\n",
            "      copying lib\\matplotlib\\style\\core.py -> build\\lib.win-amd64-cpython-311\\matplotlib\\style\n",
            "      copying lib\\matplotlib\\style\\__init__.py -> build\\lib.win-amd64-cpython-311\\matplotlib\\style\n",
            "      creating build\\lib.win-amd64-cpython-311\\matplotlib\\testing\n",
            "      copying lib\\matplotlib\\testing\\compare.py -> build\\lib.win-amd64-cpython-311\\matplotlib\\testing\n",
            "      copying lib\\matplotlib\\testing\\conftest.py -> build\\lib.win-amd64-cpython-311\\matplotlib\\testing\n",
            "      copying lib\\matplotlib\\testing\\decorators.py -> build\\lib.win-amd64-cpython-311\\matplotlib\\testing\n",
            "      copying lib\\matplotlib\\testing\\determinism.py -> build\\lib.win-amd64-cpython-311\\matplotlib\\testing\n",
            "      copying lib\\matplotlib\\testing\\disable_internet.py -> build\\lib.win-amd64-cpython-311\\matplotlib\\testing\n",
            "      copying lib\\matplotlib\\testing\\exceptions.py -> build\\lib.win-amd64-cpython-311\\matplotlib\\testing\n",
            "      copying lib\\matplotlib\\testing\\__init__.py -> build\\lib.win-amd64-cpython-311\\matplotlib\\testing\n",
            "      creating build\\lib.win-amd64-cpython-311\\matplotlib\\tri\n",
            "      copying lib\\matplotlib\\tri\\triangulation.py -> build\\lib.win-amd64-cpython-311\\matplotlib\\tri\n",
            "      copying lib\\matplotlib\\tri\\tricontour.py -> build\\lib.win-amd64-cpython-311\\matplotlib\\tri\n",
            "      copying lib\\matplotlib\\tri\\trifinder.py -> build\\lib.win-amd64-cpython-311\\matplotlib\\tri\n",
            "      copying lib\\matplotlib\\tri\\triinterpolate.py -> build\\lib.win-amd64-cpython-311\\matplotlib\\tri\n",
            "      copying lib\\matplotlib\\tri\\tripcolor.py -> build\\lib.win-amd64-cpython-311\\matplotlib\\tri\n",
            "      copying lib\\matplotlib\\tri\\triplot.py -> build\\lib.win-amd64-cpython-311\\matplotlib\\tri\n",
            "      copying lib\\matplotlib\\tri\\trirefine.py -> build\\lib.win-amd64-cpython-311\\matplotlib\\tri\n",
            "      copying lib\\matplotlib\\tri\\tritools.py -> build\\lib.win-amd64-cpython-311\\matplotlib\\tri\n",
            "      copying lib\\matplotlib\\tri\\__init__.py -> build\\lib.win-amd64-cpython-311\\matplotlib\\tri\n",
            "      creating build\\lib.win-amd64-cpython-311\\matplotlib\\backends\\qt_editor\n",
            "      copying lib\\matplotlib\\backends\\qt_editor\\figureoptions.py -> build\\lib.win-amd64-cpython-311\\matplotlib\\backends\\qt_editor\n",
            "      copying lib\\matplotlib\\backends\\qt_editor\\formlayout.py -> build\\lib.win-amd64-cpython-311\\matplotlib\\backends\\qt_editor\n",
            "      copying lib\\matplotlib\\backends\\qt_editor\\formsubplottool.py -> build\\lib.win-amd64-cpython-311\\matplotlib\\backends\\qt_editor\n",
            "      copying lib\\matplotlib\\backends\\qt_editor\\_formlayout.py -> build\\lib.win-amd64-cpython-311\\matplotlib\\backends\\qt_editor\n",
            "      copying lib\\matplotlib\\backends\\qt_editor\\__init__.py -> build\\lib.win-amd64-cpython-311\\matplotlib\\backends\\qt_editor\n",
            "      creating build\\lib.win-amd64-cpython-311\\matplotlib\\testing\\jpl_units\n",
            "      copying lib\\matplotlib\\testing\\jpl_units\\Duration.py -> build\\lib.win-amd64-cpython-311\\matplotlib\\testing\\jpl_units\n",
            "      copying lib\\matplotlib\\testing\\jpl_units\\Epoch.py -> build\\lib.win-amd64-cpython-311\\matplotlib\\testing\\jpl_units\n",
            "      copying lib\\matplotlib\\testing\\jpl_units\\EpochConverter.py -> build\\lib.win-amd64-cpython-311\\matplotlib\\testing\\jpl_units\n",
            "      copying lib\\matplotlib\\testing\\jpl_units\\StrConverter.py -> build\\lib.win-amd64-cpython-311\\matplotlib\\testing\\jpl_units\n",
            "      copying lib\\matplotlib\\testing\\jpl_units\\UnitDbl.py -> build\\lib.win-amd64-cpython-311\\matplotlib\\testing\\jpl_units\n",
            "      copying lib\\matplotlib\\testing\\jpl_units\\UnitDblConverter.py -> build\\lib.win-amd64-cpython-311\\matplotlib\\testing\\jpl_units\n",
            "      copying lib\\matplotlib\\testing\\jpl_units\\UnitDblFormatter.py -> build\\lib.win-amd64-cpython-311\\matplotlib\\testing\\jpl_units\n",
            "      copying lib\\matplotlib\\testing\\jpl_units\\__init__.py -> build\\lib.win-amd64-cpython-311\\matplotlib\\testing\\jpl_units\n",
            "      creating build\\lib.win-amd64-cpython-311\\mpl_toolkits\\axes_grid\n",
            "      copying lib\\mpl_toolkits\\axes_grid\\anchored_artists.py -> build\\lib.win-amd64-cpython-311\\mpl_toolkits\\axes_grid\n",
            "      copying lib\\mpl_toolkits\\axes_grid\\angle_helper.py -> build\\lib.win-amd64-cpython-311\\mpl_toolkits\\axes_grid\n",
            "      copying lib\\mpl_toolkits\\axes_grid\\axes_divider.py -> build\\lib.win-amd64-cpython-311\\mpl_toolkits\\axes_grid\n",
            "      copying lib\\mpl_toolkits\\axes_grid\\axes_grid.py -> build\\lib.win-amd64-cpython-311\\mpl_toolkits\\axes_grid\n",
            "      copying lib\\mpl_toolkits\\axes_grid\\axes_rgb.py -> build\\lib.win-amd64-cpython-311\\mpl_toolkits\\axes_grid\n",
            "      copying lib\\mpl_toolkits\\axes_grid\\axes_size.py -> build\\lib.win-amd64-cpython-311\\mpl_toolkits\\axes_grid\n",
            "      copying lib\\mpl_toolkits\\axes_grid\\axislines.py -> build\\lib.win-amd64-cpython-311\\mpl_toolkits\\axes_grid\n",
            "      copying lib\\mpl_toolkits\\axes_grid\\axisline_style.py -> build\\lib.win-amd64-cpython-311\\mpl_toolkits\\axes_grid\n",
            "      copying lib\\mpl_toolkits\\axes_grid\\axis_artist.py -> build\\lib.win-amd64-cpython-311\\mpl_toolkits\\axes_grid\n",
            "      copying lib\\mpl_toolkits\\axes_grid\\clip_path.py -> build\\lib.win-amd64-cpython-311\\mpl_toolkits\\axes_grid\n",
            "      copying lib\\mpl_toolkits\\axes_grid\\colorbar.py -> build\\lib.win-amd64-cpython-311\\mpl_toolkits\\axes_grid\n",
            "      copying lib\\mpl_toolkits\\axes_grid\\floating_axes.py -> build\\lib.win-amd64-cpython-311\\mpl_toolkits\\axes_grid\n",
            "      copying lib\\mpl_toolkits\\axes_grid\\grid_finder.py -> build\\lib.win-amd64-cpython-311\\mpl_toolkits\\axes_grid\n",
            "      copying lib\\mpl_toolkits\\axes_grid\\grid_helper_curvelinear.py -> build\\lib.win-amd64-cpython-311\\mpl_toolkits\\axes_grid\n",
            "      copying lib\\mpl_toolkits\\axes_grid\\inset_locator.py -> build\\lib.win-amd64-cpython-311\\mpl_toolkits\\axes_grid\n",
            "      copying lib\\mpl_toolkits\\axes_grid\\parasite_axes.py -> build\\lib.win-amd64-cpython-311\\mpl_toolkits\\axes_grid\n",
            "      copying lib\\mpl_toolkits\\axes_grid\\__init__.py -> build\\lib.win-amd64-cpython-311\\mpl_toolkits\\axes_grid\n",
            "      creating build\\lib.win-amd64-cpython-311\\mpl_toolkits\\axes_grid1\n",
            "      copying lib\\mpl_toolkits\\axes_grid1\\anchored_artists.py -> build\\lib.win-amd64-cpython-311\\mpl_toolkits\\axes_grid1\n",
            "      copying lib\\mpl_toolkits\\axes_grid1\\axes_divider.py -> build\\lib.win-amd64-cpython-311\\mpl_toolkits\\axes_grid1\n",
            "      copying lib\\mpl_toolkits\\axes_grid1\\axes_grid.py -> build\\lib.win-amd64-cpython-311\\mpl_toolkits\\axes_grid1\n",
            "      copying lib\\mpl_toolkits\\axes_grid1\\axes_rgb.py -> build\\lib.win-amd64-cpython-311\\mpl_toolkits\\axes_grid1\n",
            "      copying lib\\mpl_toolkits\\axes_grid1\\axes_size.py -> build\\lib.win-amd64-cpython-311\\mpl_toolkits\\axes_grid1\n",
            "      copying lib\\mpl_toolkits\\axes_grid1\\colorbar.py -> build\\lib.win-amd64-cpython-311\\mpl_toolkits\\axes_grid1\n",
            "      copying lib\\mpl_toolkits\\axes_grid1\\inset_locator.py -> build\\lib.win-amd64-cpython-311\\mpl_toolkits\\axes_grid1\n",
            "      copying lib\\mpl_toolkits\\axes_grid1\\mpl_axes.py -> build\\lib.win-amd64-cpython-311\\mpl_toolkits\\axes_grid1\n",
            "      copying lib\\mpl_toolkits\\axes_grid1\\parasite_axes.py -> build\\lib.win-amd64-cpython-311\\mpl_toolkits\\axes_grid1\n",
            "      copying lib\\mpl_toolkits\\axes_grid1\\__init__.py -> build\\lib.win-amd64-cpython-311\\mpl_toolkits\\axes_grid1\n",
            "      creating build\\lib.win-amd64-cpython-311\\mpl_toolkits\\axisartist\n",
            "      copying lib\\mpl_toolkits\\axisartist\\angle_helper.py -> build\\lib.win-amd64-cpython-311\\mpl_toolkits\\axisartist\n",
            "      copying lib\\mpl_toolkits\\axisartist\\axes_divider.py -> build\\lib.win-amd64-cpython-311\\mpl_toolkits\\axisartist\n",
            "      copying lib\\mpl_toolkits\\axisartist\\axes_grid.py -> build\\lib.win-amd64-cpython-311\\mpl_toolkits\\axisartist\n",
            "      copying lib\\mpl_toolkits\\axisartist\\axes_rgb.py -> build\\lib.win-amd64-cpython-311\\mpl_toolkits\\axisartist\n",
            "      copying lib\\mpl_toolkits\\axisartist\\axislines.py -> build\\lib.win-amd64-cpython-311\\mpl_toolkits\\axisartist\n",
            "      copying lib\\mpl_toolkits\\axisartist\\axisline_style.py -> build\\lib.win-amd64-cpython-311\\mpl_toolkits\\axisartist\n",
            "      copying lib\\mpl_toolkits\\axisartist\\axis_artist.py -> build\\lib.win-amd64-cpython-311\\mpl_toolkits\\axisartist\n",
            "      copying lib\\mpl_toolkits\\axisartist\\clip_path.py -> build\\lib.win-amd64-cpython-311\\mpl_toolkits\\axisartist\n",
            "      copying lib\\mpl_toolkits\\axisartist\\floating_axes.py -> build\\lib.win-amd64-cpython-311\\mpl_toolkits\\axisartist\n",
            "      copying lib\\mpl_toolkits\\axisartist\\grid_finder.py -> build\\lib.win-amd64-cpython-311\\mpl_toolkits\\axisartist\n",
            "      copying lib\\mpl_toolkits\\axisartist\\grid_helper_curvelinear.py -> build\\lib.win-amd64-cpython-311\\mpl_toolkits\\axisartist\n",
            "      copying lib\\mpl_toolkits\\axisartist\\parasite_axes.py -> build\\lib.win-amd64-cpython-311\\mpl_toolkits\\axisartist\n",
            "      copying lib\\mpl_toolkits\\axisartist\\__init__.py -> build\\lib.win-amd64-cpython-311\\mpl_toolkits\\axisartist\n",
            "      creating build\\lib.win-amd64-cpython-311\\mpl_toolkits\\mplot3d\n",
            "      copying lib\\mpl_toolkits\\mplot3d\\art3d.py -> build\\lib.win-amd64-cpython-311\\mpl_toolkits\\mplot3d\n",
            "      copying lib\\mpl_toolkits\\mplot3d\\axes3d.py -> build\\lib.win-amd64-cpython-311\\mpl_toolkits\\mplot3d\n",
            "      copying lib\\mpl_toolkits\\mplot3d\\axis3d.py -> build\\lib.win-amd64-cpython-311\\mpl_toolkits\\mplot3d\n",
            "      copying lib\\mpl_toolkits\\mplot3d\\proj3d.py -> build\\lib.win-amd64-cpython-311\\mpl_toolkits\\mplot3d\n",
            "      copying lib\\mpl_toolkits\\mplot3d\\__init__.py -> build\\lib.win-amd64-cpython-311\\mpl_toolkits\\mplot3d\n",
            "      creating build\\lib.win-amd64-cpython-311\\matplotlib\\mpl-data\n",
            "      creating build\\lib.win-amd64-cpython-311\\matplotlib\\mpl-data\\fonts\n",
            "      creating build\\lib.win-amd64-cpython-311\\matplotlib\\mpl-data\\fonts\\afm\n",
            "      copying lib\\matplotlib\\mpl-data\\fonts\\afm\\pncri8a.afm -> build\\lib.win-amd64-cpython-311\\matplotlib\\mpl-data\\fonts\\afm\n",
            "      creating build\\lib.win-amd64-cpython-311\\matplotlib\\mpl-data\\images\n",
            "      copying lib\\matplotlib\\mpl-data\\images\\home.png -> build\\lib.win-amd64-cpython-311\\matplotlib\\mpl-data\\images\n",
            "      creating build\\lib.win-amd64-cpython-311\\matplotlib\\mpl-data\\sample_data\n",
            "      copying lib\\matplotlib\\mpl-data\\sample_data\\ct.raw.gz -> build\\lib.win-amd64-cpython-311\\matplotlib\\mpl-data\\sample_data\n",
            "      copying lib\\matplotlib\\mpl-data\\fonts\\afm\\ptmr8a.afm -> build\\lib.win-amd64-cpython-311\\matplotlib\\mpl-data\\fonts\\afm\n",
            "      copying lib\\matplotlib\\mpl-data\\sample_data\\membrane.dat -> build\\lib.win-amd64-cpython-311\\matplotlib\\mpl-data\\sample_data\n",
            "      creating build\\lib.win-amd64-cpython-311\\matplotlib\\mpl-data\\stylelib\n",
            "      copying lib\\matplotlib\\mpl-data\\stylelib\\seaborn-dark-palette.mplstyle -> build\\lib.win-amd64-cpython-311\\matplotlib\\mpl-data\\stylelib\n",
            "      copying lib\\matplotlib\\mpl-data\\stylelib\\seaborn-colorblind.mplstyle -> build\\lib.win-amd64-cpython-311\\matplotlib\\mpl-data\\stylelib\n",
            "      copying lib\\matplotlib\\mpl-data\\fonts\\afm\\cmr10.afm -> build\\lib.win-amd64-cpython-311\\matplotlib\\mpl-data\\fonts\\afm\n",
            "      copying lib\\matplotlib\\mpl-data\\fonts\\afm\\phvbo8an.afm -> build\\lib.win-amd64-cpython-311\\matplotlib\\mpl-data\\fonts\\afm\n",
            "      creating build\\lib.win-amd64-cpython-311\\matplotlib\\mpl-data\\fonts\\ttf\n",
            "      copying lib\\matplotlib\\mpl-data\\fonts\\ttf\\DejaVuSerifDisplay.ttf -> build\\lib.win-amd64-cpython-311\\matplotlib\\mpl-data\\fonts\\ttf\n",
            "      copying lib\\matplotlib\\mpl-data\\images\\hand.png -> build\\lib.win-amd64-cpython-311\\matplotlib\\mpl-data\\images\n",
            "      copying lib\\matplotlib\\mpl-data\\fonts\\afm\\pbkl8a.afm -> build\\lib.win-amd64-cpython-311\\matplotlib\\mpl-data\\fonts\\afm\n",
            "      copying lib\\matplotlib\\mpl-data\\images\\forward.svg -> build\\lib.win-amd64-cpython-311\\matplotlib\\mpl-data\\images\n",
            "      copying lib\\matplotlib\\mpl-data\\images\\matplotlib.svg -> build\\lib.win-amd64-cpython-311\\matplotlib\\mpl-data\\images\n",
            "      copying lib\\matplotlib\\mpl-data\\images\\help.png -> build\\lib.win-amd64-cpython-311\\matplotlib\\mpl-data\\images\n",
            "      copying lib\\matplotlib\\mpl-data\\images\\home_large.png -> build\\lib.win-amd64-cpython-311\\matplotlib\\mpl-data\\images\n",
            "      creating build\\lib.win-amd64-cpython-311\\matplotlib\\mpl-data\\fonts\\pdfcorefonts\n",
            "      copying lib\\matplotlib\\mpl-data\\fonts\\pdfcorefonts\\Helvetica.afm -> build\\lib.win-amd64-cpython-311\\matplotlib\\mpl-data\\fonts\\pdfcorefonts\n",
            "      copying lib\\matplotlib\\mpl-data\\images\\back.gif -> build\\lib.win-amd64-cpython-311\\matplotlib\\mpl-data\\images\n",
            "      creating build\\lib.win-amd64-cpython-311\\matplotlib\\backends\\web_backend\n",
            "      creating build\\lib.win-amd64-cpython-311\\matplotlib\\backends\\web_backend\\jquery-ui-1.12.1\n",
            "      copying lib\\matplotlib\\backends\\web_backend\\jquery-ui-1.12.1\\jquery-ui.css -> build\\lib.win-amd64-cpython-311\\matplotlib\\backends\\web_backend\\jquery-ui-1.12.1\n",
            "      creating build\\lib.win-amd64-cpython-311\\matplotlib\\backends\\web_backend\\jquery-ui-1.12.1\\images\n",
            "      copying lib\\matplotlib\\backends\\web_backend\\jquery-ui-1.12.1\\images\\ui-icons_cc0000_256x240.png -> build\\lib.win-amd64-cpython-311\\matplotlib\\backends\\web_backend\\jquery-ui-1.12.1\\images\n",
            "      copying lib\\matplotlib\\mpl-data\\images\\subplots_large.png -> build\\lib.win-amd64-cpython-311\\matplotlib\\mpl-data\\images\n",
            "      copying lib\\matplotlib\\mpl-data\\images\\back.png -> build\\lib.win-amd64-cpython-311\\matplotlib\\mpl-data\\images\n",
            "      copying lib\\matplotlib\\mpl-data\\stylelib\\seaborn-pastel.mplstyle -> build\\lib.win-amd64-cpython-311\\matplotlib\\mpl-data\\stylelib\n",
            "      copying lib\\matplotlib\\mpl-data\\stylelib\\seaborn-ticks.mplstyle -> build\\lib.win-amd64-cpython-311\\matplotlib\\mpl-data\\stylelib\n",
            "      copying lib\\matplotlib\\mpl-data\\fonts\\ttf\\DejaVuSansMono-Bold.ttf -> build\\lib.win-amd64-cpython-311\\matplotlib\\mpl-data\\fonts\\ttf\n",
            "      copying lib\\matplotlib\\backends\\web_backend\\jquery-ui-1.12.1\\package.json -> build\\lib.win-amd64-cpython-311\\matplotlib\\backends\\web_backend\\jquery-ui-1.12.1\n",
            "      copying lib\\matplotlib\\backends\\web_backend\\jquery-ui-1.12.1\\images\\ui-icons_777620_256x240.png -> build\\lib.win-amd64-cpython-311\\matplotlib\\backends\\web_backend\\jquery-ui-1.12.1\\images\n",
            "      copying lib\\matplotlib\\mpl-data\\fonts\\ttf\\cmex10.ttf -> build\\lib.win-amd64-cpython-311\\matplotlib\\mpl-data\\fonts\\ttf\n",
            "      copying lib\\matplotlib\\mpl-data\\fonts\\ttf\\DejaVuSansMono-Oblique.ttf -> build\\lib.win-amd64-cpython-311\\matplotlib\\mpl-data\\fonts\\ttf\n",
            "      copying lib\\matplotlib\\mpl-data\\images\\hand_large.gif -> build\\lib.win-amd64-cpython-311\\matplotlib\\mpl-data\\images\n",
            "      copying lib\\matplotlib\\mpl-data\\images\\home.pdf -> build\\lib.win-amd64-cpython-311\\matplotlib\\mpl-data\\images\n",
            "      copying lib\\matplotlib\\mpl-data\\fonts\\afm\\cmtt10.afm -> build\\lib.win-amd64-cpython-311\\matplotlib\\mpl-data\\fonts\\afm\n",
            "      copying lib\\matplotlib\\mpl-data\\images\\home.gif -> build\\lib.win-amd64-cpython-311\\matplotlib\\mpl-data\\images\n",
            "      copying lib\\matplotlib\\mpl-data\\images\\move.pdf -> build\\lib.win-amd64-cpython-311\\matplotlib\\mpl-data\\images\n",
            "      copying lib\\matplotlib\\mpl-data\\stylelib\\seaborn-deep.mplstyle -> build\\lib.win-amd64-cpython-311\\matplotlib\\mpl-data\\stylelib\n",
            "      copying lib\\matplotlib\\backends\\web_backend\\jquery-ui-1.12.1\\jquery-ui.structure.min.css -> build\\lib.win-amd64-cpython-311\\matplotlib\\backends\\web_backend\\jquery-ui-1.12.1\n",
            "      copying lib\\matplotlib\\mpl-data\\stylelib\\bmh.mplstyle -> build\\lib.win-amd64-cpython-311\\matplotlib\\mpl-data\\stylelib\n",
            "      copying lib\\matplotlib\\mpl-data\\images\\filesave.png -> build\\lib.win-amd64-cpython-311\\matplotlib\\mpl-data\\images\n",
            "      copying lib\\matplotlib\\mpl-data\\fonts\\afm\\cmmi10.afm -> build\\lib.win-amd64-cpython-311\\matplotlib\\mpl-data\\fonts\\afm\n",
            "      copying lib\\matplotlib\\mpl-data\\fonts\\ttf\\STIXGeneralItalic.ttf -> build\\lib.win-amd64-cpython-311\\matplotlib\\mpl-data\\fonts\\ttf\n",
            "      copying lib\\matplotlib\\mpl-data\\images\\zoom_to_rect.png -> build\\lib.win-amd64-cpython-311\\matplotlib\\mpl-data\\images\n",
            "      copying lib\\matplotlib\\backends\\web_backend\\jquery-ui-1.12.1\\jquery-ui.min.css -> build\\lib.win-amd64-cpython-311\\matplotlib\\backends\\web_backend\\jquery-ui-1.12.1\n",
            "      copying lib\\matplotlib\\mpl-data\\fonts\\ttf\\STIXSizFourSymReg.ttf -> build\\lib.win-amd64-cpython-311\\matplotlib\\mpl-data\\fonts\\ttf\n",
            "      copying lib\\matplotlib\\mpl-data\\fonts\\afm\\phvlo8a.afm -> build\\lib.win-amd64-cpython-311\\matplotlib\\mpl-data\\fonts\\afm\n",
            "      copying lib\\matplotlib\\mpl-data\\fonts\\afm\\phvro8a.afm -> build\\lib.win-amd64-cpython-311\\matplotlib\\mpl-data\\fonts\\afm\n",
            "      copying lib\\matplotlib\\mpl-data\\fonts\\pdfcorefonts\\readme.txt -> build\\lib.win-amd64-cpython-311\\matplotlib\\mpl-data\\fonts\\pdfcorefonts\n",
            "      copying lib\\matplotlib\\mpl-data\\fonts\\afm\\phvro8an.afm -> build\\lib.win-amd64-cpython-311\\matplotlib\\mpl-data\\fonts\\afm\n",
            "      copying lib\\matplotlib\\mpl-data\\fonts\\ttf\\STIXSizFiveSymReg.ttf -> build\\lib.win-amd64-cpython-311\\matplotlib\\mpl-data\\fonts\\ttf\n",
            "      copying lib\\matplotlib\\mpl-data\\images\\zoom_to_rect_large.gif -> build\\lib.win-amd64-cpython-311\\matplotlib\\mpl-data\\images\n",
            "      copying lib\\matplotlib\\backends\\web_backend\\jquery-ui-1.12.1\\images\\ui-icons_777777_256x240.png -> build\\lib.win-amd64-cpython-311\\matplotlib\\backends\\web_backend\\jquery-ui-1.12.1\\images\n",
            "      copying lib\\matplotlib\\mpl-data\\stylelib\\seaborn-paper.mplstyle -> build\\lib.win-amd64-cpython-311\\matplotlib\\mpl-data\\stylelib\n",
            "      copying lib\\matplotlib\\backends\\web_backend\\jquery-ui-1.12.1\\jquery-ui.theme.css -> build\\lib.win-amd64-cpython-311\\matplotlib\\backends\\web_backend\\jquery-ui-1.12.1\n",
            "      copying lib\\matplotlib\\mpl-data\\stylelib\\seaborn-poster.mplstyle -> build\\lib.win-amd64-cpython-311\\matplotlib\\mpl-data\\stylelib\n",
            "      copying lib\\matplotlib\\mpl-data\\fonts\\afm\\pagk8a.afm -> build\\lib.win-amd64-cpython-311\\matplotlib\\mpl-data\\fonts\\afm\n",
            "      copying lib\\matplotlib\\backends\\web_backend\\jquery-ui-1.12.1\\images\\ui-icons_ffffff_256x240.png -> build\\lib.win-amd64-cpython-311\\matplotlib\\backends\\web_backend\\jquery-ui-1.12.1\\images\n",
            "      copying lib\\matplotlib\\mpl-data\\stylelib\\seaborn-dark.mplstyle -> build\\lib.win-amd64-cpython-311\\matplotlib\\mpl-data\\stylelib\n",
            "      copying lib\\matplotlib\\mpl-data\\fonts\\pdfcorefonts\\ZapfDingbats.afm -> build\\lib.win-amd64-cpython-311\\matplotlib\\mpl-data\\fonts\\pdfcorefonts\n",
            "      copying lib\\matplotlib\\mpl-data\\stylelib\\seaborn-darkgrid.mplstyle -> build\\lib.win-amd64-cpython-311\\matplotlib\\mpl-data\\stylelib\n",
            "      copying lib\\matplotlib\\mpl-data\\sample_data\\README.txt -> build\\lib.win-amd64-cpython-311\\matplotlib\\mpl-data\\sample_data\n",
            "      copying lib\\matplotlib\\mpl-data\\images\\home_large.gif -> build\\lib.win-amd64-cpython-311\\matplotlib\\mpl-data\\images\n",
            "      copying lib\\matplotlib\\mpl-data\\fonts\\pdfcorefonts\\Symbol.afm -> build\\lib.win-amd64-cpython-311\\matplotlib\\mpl-data\\fonts\\pdfcorefonts\n",
            "      copying lib\\matplotlib\\mpl-data\\stylelib\\classic.mplstyle -> build\\lib.win-amd64-cpython-311\\matplotlib\\mpl-data\\stylelib\n",
            "      copying lib\\matplotlib\\mpl-data\\fonts\\afm\\ptmbi8a.afm -> build\\lib.win-amd64-cpython-311\\matplotlib\\mpl-data\\fonts\\afm\n",
            "      copying lib\\matplotlib\\mpl-data\\fonts\\afm\\phvr8a.afm -> build\\lib.win-amd64-cpython-311\\matplotlib\\mpl-data\\fonts\\afm\n",
            "      copying lib\\matplotlib\\mpl-data\\fonts\\afm\\pzdr.afm -> build\\lib.win-amd64-cpython-311\\matplotlib\\mpl-data\\fonts\\afm\n",
            "      copying lib\\matplotlib\\mpl-data\\fonts\\afm\\putb8a.afm -> build\\lib.win-amd64-cpython-311\\matplotlib\\mpl-data\\fonts\\afm\n",
            "      copying lib\\matplotlib\\mpl-data\\fonts\\ttf\\STIXNonUniIta.ttf -> build\\lib.win-amd64-cpython-311\\matplotlib\\mpl-data\\fonts\\ttf\n",
            "      copying lib\\matplotlib\\mpl-data\\images\\hand.gif -> build\\lib.win-amd64-cpython-311\\matplotlib\\mpl-data\\images\n",
            "      copying lib\\matplotlib\\backends\\web_backend\\jquery-ui-1.12.1\\jquery-ui.min.js -> build\\lib.win-amd64-cpython-311\\matplotlib\\backends\\web_backend\\jquery-ui-1.12.1\n",
            "      copying lib\\matplotlib\\mpl-data\\fonts\\ttf\\STIXSizOneSymReg.ttf -> build\\lib.win-amd64-cpython-311\\matplotlib\\mpl-data\\fonts\\ttf\n",
            "      copying lib\\matplotlib\\mpl-data\\stylelib\\Solarize_Light2.mplstyle -> build\\lib.win-amd64-cpython-311\\matplotlib\\mpl-data\\stylelib\n",
            "      copying lib\\matplotlib\\mpl-data\\fonts\\pdfcorefonts\\Helvetica-Bold.afm -> build\\lib.win-amd64-cpython-311\\matplotlib\\mpl-data\\fonts\\pdfcorefonts\n",
            "      copying lib\\matplotlib\\mpl-data\\fonts\\afm\\putbi8a.afm -> build\\lib.win-amd64-cpython-311\\matplotlib\\mpl-data\\fonts\\afm\n",
            "      copying lib\\matplotlib\\mpl-data\\images\\home.svg -> build\\lib.win-amd64-cpython-311\\matplotlib\\mpl-data\\images\n",
            "      copying lib\\matplotlib\\mpl-data\\images\\filesave.gif -> build\\lib.win-amd64-cpython-311\\matplotlib\\mpl-data\\images\n",
            "      copying lib\\matplotlib\\mpl-data\\images\\zoom_to_rect.pdf -> build\\lib.win-amd64-cpython-311\\matplotlib\\mpl-data\\images\n",
            "      copying lib\\matplotlib\\mpl-data\\fonts\\ttf\\STIXNonUniBolIta.ttf -> build\\lib.win-amd64-cpython-311\\matplotlib\\mpl-data\\fonts\\ttf\n",
            "      copying lib\\matplotlib\\mpl-data\\images\\qt4_editor_options_large.png -> build\\lib.win-amd64-cpython-311\\matplotlib\\mpl-data\\images\n",
            "      copying lib\\matplotlib\\mpl-data\\images\\forward.gif -> build\\lib.win-amd64-cpython-311\\matplotlib\\mpl-data\\images\n",
            "      copying lib\\matplotlib\\mpl-data\\fonts\\afm\\putri8a.afm -> build\\lib.win-amd64-cpython-311\\matplotlib\\mpl-data\\fonts\\afm\n",
            "      copying lib\\matplotlib\\mpl-data\\fonts\\ttf\\STIXSizThreeSymReg.ttf -> build\\lib.win-amd64-cpython-311\\matplotlib\\mpl-data\\fonts\\ttf\n",
            "      copying lib\\matplotlib\\mpl-data\\stylelib\\seaborn.mplstyle -> build\\lib.win-amd64-cpython-311\\matplotlib\\mpl-data\\stylelib\n",
            "      copying lib\\matplotlib\\mpl-data\\fonts\\pdfcorefonts\\Courier-Bold.afm -> build\\lib.win-amd64-cpython-311\\matplotlib\\mpl-data\\fonts\\pdfcorefonts\n",
            "      copying lib\\matplotlib\\mpl-data\\images\\matplotlib.pdf -> build\\lib.win-amd64-cpython-311\\matplotlib\\mpl-data\\images\n",
            "      copying lib\\matplotlib\\mpl-data\\images\\qt4_editor_options.pdf -> build\\lib.win-amd64-cpython-311\\matplotlib\\mpl-data\\images\n",
            "      copying lib\\matplotlib\\backends\\web_backend\\jquery-ui-1.12.1\\images\\ui-icons_444444_256x240.png -> build\\lib.win-amd64-cpython-311\\matplotlib\\backends\\web_backend\\jquery-ui-1.12.1\\images\n",
            "      copying lib\\matplotlib\\mpl-data\\images\\forward_large.gif -> build\\lib.win-amd64-cpython-311\\matplotlib\\mpl-data\\images\n",
            "      copying lib\\matplotlib\\mpl-data\\fonts\\ttf\\DejaVuSansDisplay.ttf -> build\\lib.win-amd64-cpython-311\\matplotlib\\mpl-data\\fonts\\ttf\n",
            "      copying lib\\matplotlib\\mpl-data\\stylelib\\fast.mplstyle -> build\\lib.win-amd64-cpython-311\\matplotlib\\mpl-data\\stylelib\n",
            "      copying lib\\matplotlib\\mpl-data\\images\\forward_large.png -> build\\lib.win-amd64-cpython-311\\matplotlib\\mpl-data\\images\n",
            "      copying lib\\matplotlib\\mpl-data\\fonts\\pdfcorefonts\\Times-Roman.afm -> build\\lib.win-amd64-cpython-311\\matplotlib\\mpl-data\\fonts\\pdfcorefonts\n",
            "      copying lib\\matplotlib\\backends\\web_backend\\jquery-ui-1.12.1\\LICENSE.txt -> build\\lib.win-amd64-cpython-311\\matplotlib\\backends\\web_backend\\jquery-ui-1.12.1\n",
            "      copying lib\\matplotlib\\mpl-data\\sample_data\\ada.png -> build\\lib.win-amd64-cpython-311\\matplotlib\\mpl-data\\sample_data\n",
            "      copying lib\\matplotlib\\mpl-data\\fonts\\afm\\pcrbo8a.afm -> build\\lib.win-amd64-cpython-311\\matplotlib\\mpl-data\\fonts\\afm\n",
            "      copying lib\\matplotlib\\mpl-data\\fonts\\afm\\pcrro8a.afm -> build\\lib.win-amd64-cpython-311\\matplotlib\\mpl-data\\fonts\\afm\n",
            "      copying lib\\matplotlib\\mpl-data\\fonts\\afm\\pplb8a.afm -> build\\lib.win-amd64-cpython-311\\matplotlib\\mpl-data\\fonts\\afm\n",
            "      copying lib\\matplotlib\\mpl-data\\fonts\\ttf\\DejaVuSans-Bold.ttf -> build\\lib.win-amd64-cpython-311\\matplotlib\\mpl-data\\fonts\\ttf\n",
            "      copying lib\\matplotlib\\mpl-data\\images\\matplotlib.ppm -> build\\lib.win-amd64-cpython-311\\matplotlib\\mpl-data\\images\n",
            "      copying lib\\matplotlib\\mpl-data\\stylelib\\seaborn-whitegrid.mplstyle -> build\\lib.win-amd64-cpython-311\\matplotlib\\mpl-data\\stylelib\n",
            "      copying lib\\matplotlib\\mpl-data\\fonts\\afm\\pcrr8a.afm -> build\\lib.win-amd64-cpython-311\\matplotlib\\mpl-data\\fonts\\afm\n",
            "      creating build\\lib.win-amd64-cpython-311\\matplotlib\\backends\\web_backend\\jquery\n",
            "      creating build\\lib.win-amd64-cpython-311\\matplotlib\\backends\\web_backend\\jquery\\js\n",
            "      copying lib\\matplotlib\\backends\\web_backend\\jquery\\js\\jquery.js -> build\\lib.win-amd64-cpython-311\\matplotlib\\backends\\web_backend\\jquery\\js\n",
            "      copying lib\\matplotlib\\backends\\web_backend\\nbagg_uat.ipynb -> build\\lib.win-amd64-cpython-311\\matplotlib\\backends\\web_backend\n",
            "      copying lib\\matplotlib\\mpl-data\\fonts\\afm\\phvbo8a.afm -> build\\lib.win-amd64-cpython-311\\matplotlib\\mpl-data\\fonts\\afm\n",
            "      copying lib\\matplotlib\\mpl-data\\fonts\\ttf\\STIXNonUni.ttf -> build\\lib.win-amd64-cpython-311\\matplotlib\\mpl-data\\fonts\\ttf\n",
            "      copying lib\\matplotlib\\mpl-data\\images\\back_large.gif -> build\\lib.win-amd64-cpython-311\\matplotlib\\mpl-data\\images\n",
            "      copying lib\\matplotlib\\mpl-data\\fonts\\pdfcorefonts\\Times-BoldItalic.afm -> build\\lib.win-amd64-cpython-311\\matplotlib\\mpl-data\\fonts\\pdfcorefonts\n",
            "      copying lib\\matplotlib\\mpl-data\\fonts\\afm\\cmex10.afm -> build\\lib.win-amd64-cpython-311\\matplotlib\\mpl-data\\fonts\\afm\n",
            "      copying lib\\matplotlib\\mpl-data\\fonts\\ttf\\STIXNonUniBol.ttf -> build\\lib.win-amd64-cpython-311\\matplotlib\\mpl-data\\fonts\\ttf\n",
            "      copying lib\\matplotlib\\backends\\web_backend\\jquery-ui-1.12.1\\index.html -> build\\lib.win-amd64-cpython-311\\matplotlib\\backends\\web_backend\\jquery-ui-1.12.1\n",
            "      copying lib\\matplotlib\\mpl-data\\images\\zoom_to_rect.svg -> build\\lib.win-amd64-cpython-311\\matplotlib\\mpl-data\\images\n",
            "      copying lib\\matplotlib\\mpl-data\\fonts\\afm\\pncbi8a.afm -> build\\lib.win-amd64-cpython-311\\matplotlib\\mpl-data\\fonts\\afm\n",
            "      copying lib\\matplotlib\\mpl-data\\stylelib\\grayscale.mplstyle -> build\\lib.win-amd64-cpython-311\\matplotlib\\mpl-data\\stylelib\n",
            "      copying lib\\matplotlib\\mpl-data\\images\\zoom_to_rect_large.png -> build\\lib.win-amd64-cpython-311\\matplotlib\\mpl-data\\images\n",
            "      copying lib\\matplotlib\\mpl-data\\fonts\\afm\\phvl8a.afm -> build\\lib.win-amd64-cpython-311\\matplotlib\\mpl-data\\fonts\\afm\n",
            "      copying lib\\matplotlib\\mpl-data\\fonts\\pdfcorefonts\\Courier-BoldOblique.afm -> build\\lib.win-amd64-cpython-311\\matplotlib\\mpl-data\\fonts\\pdfcorefonts\n",
            "      creating build\\lib.win-amd64-cpython-311\\matplotlib\\backends\\web_backend\\css\n",
            "      copying lib\\matplotlib\\backends\\web_backend\\css\\fbm.css -> build\\lib.win-amd64-cpython-311\\matplotlib\\backends\\web_backend\\css\n",
            "      copying lib\\matplotlib\\mpl-data\\fonts\\ttf\\DejaVuSans-BoldOblique.ttf -> build\\lib.win-amd64-cpython-311\\matplotlib\\mpl-data\\fonts\\ttf\n",
            "      copying lib\\matplotlib\\mpl-data\\images\\move.svg -> build\\lib.win-amd64-cpython-311\\matplotlib\\mpl-data\\images\n",
            "      creating build\\lib.win-amd64-cpython-311\\matplotlib\\backends\\web_backend\\js\n",
            "      copying lib\\matplotlib\\backends\\web_backend\\js\\mpl.js -> build\\lib.win-amd64-cpython-311\\matplotlib\\backends\\web_backend\\js\n",
            "      copying lib\\matplotlib\\mpl-data\\images\\matplotlib_large.png -> build\\lib.win-amd64-cpython-311\\matplotlib\\mpl-data\\images\n",
            "      copying lib\\matplotlib\\backends\\web_backend\\all_figures.html -> build\\lib.win-amd64-cpython-311\\matplotlib\\backends\\web_backend\n",
            "      copying lib\\matplotlib\\mpl-data\\fonts\\ttf\\STIXSizThreeSymBol.ttf -> build\\lib.win-amd64-cpython-311\\matplotlib\\mpl-data\\fonts\\ttf\n",
            "      copying lib\\matplotlib\\mpl-data\\fonts\\afm\\pagko8a.afm -> build\\lib.win-amd64-cpython-311\\matplotlib\\mpl-data\\fonts\\afm\n",
            "      copying lib\\matplotlib\\mpl-data\\images\\help.svg -> build\\lib.win-amd64-cpython-311\\matplotlib\\mpl-data\\images\n",
            "      copying lib\\matplotlib\\mpl-data\\fonts\\ttf\\cmmi10.ttf -> build\\lib.win-amd64-cpython-311\\matplotlib\\mpl-data\\fonts\\ttf\n",
            "      copying lib\\matplotlib\\mpl-data\\fonts\\ttf\\DejaVuSerif-BoldItalic.ttf -> build\\lib.win-amd64-cpython-311\\matplotlib\\mpl-data\\fonts\\ttf\n",
            "      copying lib\\matplotlib\\mpl-data\\images\\forward.pdf -> build\\lib.win-amd64-cpython-311\\matplotlib\\mpl-data\\images\n",
            "      copying lib\\matplotlib\\mpl-data\\images\\move.gif -> build\\lib.win-amd64-cpython-311\\matplotlib\\mpl-data\\images\n",
            "      copying lib\\matplotlib\\mpl-data\\images\\subplots.svg -> build\\lib.win-amd64-cpython-311\\matplotlib\\mpl-data\\images\n",
            "      copying lib\\matplotlib\\backends\\web_backend\\js\\nbagg_mpl.js -> build\\lib.win-amd64-cpython-311\\matplotlib\\backends\\web_backend\\js\n",
            "      copying lib\\matplotlib\\mpl-data\\sample_data\\grace_hopper.png -> build\\lib.win-amd64-cpython-311\\matplotlib\\mpl-data\\sample_data\n",
            "      copying lib\\matplotlib\\mpl-data\\fonts\\afm\\putr8a.afm -> build\\lib.win-amd64-cpython-311\\matplotlib\\mpl-data\\fonts\\afm\n",
            "      copying lib\\matplotlib\\mpl-data\\fonts\\afm\\phvr8an.afm -> build\\lib.win-amd64-cpython-311\\matplotlib\\mpl-data\\fonts\\afm\n",
            "      copying lib\\matplotlib\\mpl-data\\fonts\\afm\\pplri8a.afm -> build\\lib.win-amd64-cpython-311\\matplotlib\\mpl-data\\fonts\\afm\n",
            "      copying lib\\matplotlib\\mpl-data\\fonts\\ttf\\STIXGeneralBolIta.ttf -> build\\lib.win-amd64-cpython-311\\matplotlib\\mpl-data\\fonts\\ttf\n",
            "      copying lib\\matplotlib\\mpl-data\\fonts\\afm\\pzcmi8a.afm -> build\\lib.win-amd64-cpython-311\\matplotlib\\mpl-data\\fonts\\afm\n",
            "      copying lib\\matplotlib\\mpl-data\\images\\filesave_large.gif -> build\\lib.win-amd64-cpython-311\\matplotlib\\mpl-data\\images\n",
            "      copying lib\\matplotlib\\mpl-data\\fonts\\afm\\pplbi8a.afm -> build\\lib.win-amd64-cpython-311\\matplotlib\\mpl-data\\fonts\\afm\n",
            "      copying lib\\matplotlib\\mpl-data\\fonts\\ttf\\LICENSE_DEJAVU -> build\\lib.win-amd64-cpython-311\\matplotlib\\mpl-data\\fonts\\ttf\n",
            "      copying lib\\matplotlib\\mpl-data\\images\\filesave_large.png -> build\\lib.win-amd64-cpython-311\\matplotlib\\mpl-data\\images\n",
            "      copying lib\\matplotlib\\mpl-data\\images\\help.ppm -> build\\lib.win-amd64-cpython-311\\matplotlib\\mpl-data\\images\n",
            "      copying lib\\matplotlib\\mpl-data\\images\\filesave.svg -> build\\lib.win-amd64-cpython-311\\matplotlib\\mpl-data\\images\n",
            "      copying lib\\matplotlib\\mpl-data\\fonts\\ttf\\DejaVuSansMono-BoldOblique.ttf -> build\\lib.win-amd64-cpython-311\\matplotlib\\mpl-data\\fonts\\ttf\n",
            "      copying lib\\matplotlib\\mpl-data\\images\\help.pdf -> build\\lib.win-amd64-cpython-311\\matplotlib\\mpl-data\\images\n",
            "      copying lib\\matplotlib\\mpl-data\\fonts\\ttf\\DejaVuSerif-Bold.ttf -> build\\lib.win-amd64-cpython-311\\matplotlib\\mpl-data\\fonts\\ttf\n",
            "      copying lib\\matplotlib\\mpl-data\\fonts\\afm\\phvb8a.afm -> build\\lib.win-amd64-cpython-311\\matplotlib\\mpl-data\\fonts\\afm\n",
            "      copying lib\\matplotlib\\mpl-data\\fonts\\ttf\\STIXSizTwoSymBol.ttf -> build\\lib.win-amd64-cpython-311\\matplotlib\\mpl-data\\fonts\\ttf\n",
            "      copying lib\\matplotlib\\mpl-data\\stylelib\\fivethirtyeight.mplstyle -> build\\lib.win-amd64-cpython-311\\matplotlib\\mpl-data\\stylelib\n",
            "      copying lib\\matplotlib\\mpl-data\\images\\hand.svg -> build\\lib.win-amd64-cpython-311\\matplotlib\\mpl-data\\images\n",
            "      copying lib\\matplotlib\\mpl-data\\fonts\\ttf\\cmb10.ttf -> build\\lib.win-amd64-cpython-311\\matplotlib\\mpl-data\\fonts\\ttf\n",
            "      copying lib\\matplotlib\\mpl-data\\images\\subplots.pdf -> build\\lib.win-amd64-cpython-311\\matplotlib\\mpl-data\\images\n",
            "      copying lib\\matplotlib\\mpl-data\\fonts\\afm\\pbkli8a.afm -> build\\lib.win-amd64-cpython-311\\matplotlib\\mpl-data\\fonts\\afm\n",
            "      copying lib\\matplotlib\\mpl-data\\sample_data\\demodata.csv -> build\\lib.win-amd64-cpython-311\\matplotlib\\mpl-data\\sample_data\n",
            "      copying lib\\matplotlib\\mpl-data\\stylelib\\seaborn-muted.mplstyle -> build\\lib.win-amd64-cpython-311\\matplotlib\\mpl-data\\stylelib\n",
            "      copying lib\\matplotlib\\mpl-data\\sample_data\\aapl.npz -> build\\lib.win-amd64-cpython-311\\matplotlib\\mpl-data\\sample_data\n",
            "      copying lib\\matplotlib\\mpl-data\\fonts\\ttf\\cmtt10.ttf -> build\\lib.win-amd64-cpython-311\\matplotlib\\mpl-data\\fonts\\ttf\n",
            "      copying lib\\matplotlib\\mpl-data\\fonts\\pdfcorefonts\\Courier-Oblique.afm -> build\\lib.win-amd64-cpython-311\\matplotlib\\mpl-data\\fonts\\pdfcorefonts\n",
            "      copying lib\\matplotlib\\mpl-data\\fonts\\ttf\\STIXSizFourSymBol.ttf -> build\\lib.win-amd64-cpython-311\\matplotlib\\mpl-data\\fonts\\ttf\n",
            "      copying lib\\matplotlib\\mpl-data\\images\\forward.png -> build\\lib.win-amd64-cpython-311\\matplotlib\\mpl-data\\images\n",
            "      copying lib\\matplotlib\\backends\\web_backend\\jquery-ui-1.12.1\\AUTHORS.txt -> build\\lib.win-amd64-cpython-311\\matplotlib\\backends\\web_backend\\jquery-ui-1.12.1\n",
            "      copying lib\\matplotlib\\mpl-data\\fonts\\afm\\ptmb8a.afm -> build\\lib.win-amd64-cpython-311\\matplotlib\\mpl-data\\fonts\\afm\n",
            "      copying lib\\matplotlib\\mpl-data\\stylelib\\seaborn-notebook.mplstyle -> build\\lib.win-amd64-cpython-311\\matplotlib\\mpl-data\\stylelib\n",
            "      copying lib\\matplotlib\\mpl-data\\sample_data\\data_x_x2_x3.csv -> build\\lib.win-amd64-cpython-311\\matplotlib\\mpl-data\\sample_data\n",
            "      copying lib\\matplotlib\\backends\\web_backend\\jquery-ui-1.12.1\\jquery-ui.js -> build\\lib.win-amd64-cpython-311\\matplotlib\\backends\\web_backend\\jquery-ui-1.12.1\n",
            "      copying lib\\matplotlib\\mpl-data\\fonts\\ttf\\LICENSE_STIX -> build\\lib.win-amd64-cpython-311\\matplotlib\\mpl-data\\fonts\\ttf\n",
            "      copying lib\\matplotlib\\mpl-data\\sample_data\\logo2.png -> build\\lib.win-amd64-cpython-311\\matplotlib\\mpl-data\\sample_data\n",
            "      copying lib\\matplotlib\\mpl-data\\fonts\\afm\\psyr.afm -> build\\lib.win-amd64-cpython-311\\matplotlib\\mpl-data\\fonts\\afm\n",
            "      copying lib\\matplotlib\\backends\\web_backend\\jquery-ui-1.12.1\\jquery-ui.theme.min.css -> build\\lib.win-amd64-cpython-311\\matplotlib\\backends\\web_backend\\jquery-ui-1.12.1\n",
            "      copying lib\\matplotlib\\mpl-data\\fonts\\ttf\\DejaVuSans.ttf -> build\\lib.win-amd64-cpython-311\\matplotlib\\mpl-data\\fonts\\ttf\n",
            "      copying lib\\matplotlib\\mpl-data\\images\\move.png -> build\\lib.win-amd64-cpython-311\\matplotlib\\mpl-data\\images\n",
            "      copying lib\\matplotlib\\mpl-data\\fonts\\ttf\\STIXSizOneSymBol.ttf -> build\\lib.win-amd64-cpython-311\\matplotlib\\mpl-data\\fonts\\ttf\n",
            "      copying lib\\matplotlib\\mpl-data\\stylelib\\ggplot.mplstyle -> build\\lib.win-amd64-cpython-311\\matplotlib\\mpl-data\\stylelib\n",
            "      creating build\\lib.win-amd64-cpython-311\\matplotlib\\mpl-data\\sample_data\\axes_grid\n",
            "      copying lib\\matplotlib\\mpl-data\\sample_data\\axes_grid\\bivariate_normal.npy -> build\\lib.win-amd64-cpython-311\\matplotlib\\mpl-data\\sample_data\\axes_grid\n",
            "      copying lib\\matplotlib\\mpl-data\\images\\back.pdf -> build\\lib.win-amd64-cpython-311\\matplotlib\\mpl-data\\images\n",
            "      copying lib\\matplotlib\\mpl-data\\images\\subplots.png -> build\\lib.win-amd64-cpython-311\\matplotlib\\mpl-data\\images\n",
            "      copying lib\\matplotlib\\mpl-data\\fonts\\afm\\phvb8an.afm -> build\\lib.win-amd64-cpython-311\\matplotlib\\mpl-data\\fonts\\afm\n",
            "      copying lib\\matplotlib\\mpl-data\\fonts\\afm\\cmsy10.afm -> build\\lib.win-amd64-cpython-311\\matplotlib\\mpl-data\\fonts\\afm\n",
            "      copying lib\\matplotlib\\mpl-data\\sample_data\\Minduka_Present_Blue_Pack.png -> build\\lib.win-amd64-cpython-311\\matplotlib\\mpl-data\\sample_data\n",
            "      copying lib\\matplotlib\\mpl-data\\images\\subplots_large.gif -> build\\lib.win-amd64-cpython-311\\matplotlib\\mpl-data\\images\n",
            "      copying lib\\matplotlib\\mpl-data\\fonts\\afm\\pcrb8a.afm -> build\\lib.win-amd64-cpython-311\\matplotlib\\mpl-data\\fonts\\afm\n",
            "      copying lib\\matplotlib\\mpl-data\\images\\hand.pdf -> build\\lib.win-amd64-cpython-311\\matplotlib\\mpl-data\\images\n",
            "      copying lib\\matplotlib\\mpl-data\\sample_data\\goog.npz -> build\\lib.win-amd64-cpython-311\\matplotlib\\mpl-data\\sample_data\n",
            "      copying lib\\matplotlib\\mpl-data\\fonts\\ttf\\cmr10.ttf -> build\\lib.win-amd64-cpython-311\\matplotlib\\mpl-data\\fonts\\ttf\n",
            "      copying lib\\matplotlib\\mpl-data\\images\\move_large.gif -> build\\lib.win-amd64-cpython-311\\matplotlib\\mpl-data\\images\n",
            "      copying lib\\matplotlib\\backends\\web_backend\\jquery\\js\\jquery.min.js -> build\\lib.win-amd64-cpython-311\\matplotlib\\backends\\web_backend\\jquery\\js\n",
            "      copying lib\\matplotlib\\mpl-data\\images\\subplots.gif -> build\\lib.win-amd64-cpython-311\\matplotlib\\mpl-data\\images\n",
            "      copying lib\\matplotlib\\mpl-data\\images\\help_large.ppm -> build\\lib.win-amd64-cpython-311\\matplotlib\\mpl-data\\images\n",
            "      copying lib\\matplotlib\\mpl-data\\sample_data\\eeg.dat -> build\\lib.win-amd64-cpython-311\\matplotlib\\mpl-data\\sample_data\n",
            "      copying lib\\matplotlib\\backends\\web_backend\\single_figure.html -> build\\lib.win-amd64-cpython-311\\matplotlib\\backends\\web_backend\n",
            "      copying lib\\matplotlib\\mpl-data\\fonts\\afm\\pagd8a.afm -> build\\lib.win-amd64-cpython-311\\matplotlib\\mpl-data\\fonts\\afm\n",
            "      creating build\\lib.win-amd64-cpython-311\\matplotlib\\backends\\web_backend\\jquery-ui-1.12.1\\external\n",
            "      creating build\\lib.win-amd64-cpython-311\\matplotlib\\backends\\web_backend\\jquery-ui-1.12.1\\external\\jquery\n",
            "      copying lib\\matplotlib\\backends\\web_backend\\jquery-ui-1.12.1\\external\\jquery\\jquery.js -> build\\lib.win-amd64-cpython-311\\matplotlib\\backends\\web_backend\\jquery-ui-1.12.1\\external\\jquery\n",
            "      copying lib\\matplotlib\\mpl-data\\fonts\\afm\\pncb8a.afm -> build\\lib.win-amd64-cpython-311\\matplotlib\\mpl-data\\fonts\\afm\n",
            "      copying lib\\matplotlib\\mpl-data\\fonts\\pdfcorefonts\\Times-Italic.afm -> build\\lib.win-amd64-cpython-311\\matplotlib\\mpl-data\\fonts\\pdfcorefonts\n",
            "      copying lib\\matplotlib\\mpl-data\\fonts\\afm\\pplr8a.afm -> build\\lib.win-amd64-cpython-311\\matplotlib\\mpl-data\\fonts\\afm\n",
            "      copying lib\\matplotlib\\mpl-data\\fonts\\afm\\pagdo8a.afm -> build\\lib.win-amd64-cpython-311\\matplotlib\\mpl-data\\fonts\\afm\n",
            "      copying lib\\matplotlib\\mpl-data\\matplotlibrc -> build\\lib.win-amd64-cpython-311\\matplotlib\\mpl-data\n",
            "      copying lib\\matplotlib\\mpl-data\\stylelib\\dark_background.mplstyle -> build\\lib.win-amd64-cpython-311\\matplotlib\\mpl-data\\stylelib\n",
            "      copying lib\\matplotlib\\mpl-data\\images\\move_large.png -> build\\lib.win-amd64-cpython-311\\matplotlib\\mpl-data\\images\n",
            "      copying lib\\matplotlib\\mpl-data\\fonts\\ttf\\cmss10.ttf -> build\\lib.win-amd64-cpython-311\\matplotlib\\mpl-data\\fonts\\ttf\n",
            "      copying lib\\matplotlib\\backends\\web_backend\\jquery-ui-1.12.1\\images\\ui-icons_555555_256x240.png -> build\\lib.win-amd64-cpython-311\\matplotlib\\backends\\web_backend\\jquery-ui-1.12.1\\images\n",
            "      copying lib\\matplotlib\\mpl-data\\stylelib\\seaborn-talk.mplstyle -> build\\lib.win-amd64-cpython-311\\matplotlib\\mpl-data\\stylelib\n",
            "      copying lib\\matplotlib\\mpl-data\\sample_data\\grace_hopper.jpg -> build\\lib.win-amd64-cpython-311\\matplotlib\\mpl-data\\sample_data\n",
            "      copying lib\\matplotlib\\mpl-data\\stylelib\\_classic_test.mplstyle -> build\\lib.win-amd64-cpython-311\\matplotlib\\mpl-data\\stylelib\n",
            "      copying lib\\matplotlib\\mpl-data\\fonts\\ttf\\STIXGeneralBol.ttf -> build\\lib.win-amd64-cpython-311\\matplotlib\\mpl-data\\fonts\\ttf\n",
            "      copying lib\\matplotlib\\mpl-data\\fonts\\afm\\ptmri8a.afm -> build\\lib.win-amd64-cpython-311\\matplotlib\\mpl-data\\fonts\\afm\n",
            "      copying lib\\matplotlib\\mpl-data\\images\\qt4_editor_options.png -> build\\lib.win-amd64-cpython-311\\matplotlib\\mpl-data\\images\n",
            "      copying lib\\matplotlib\\mpl-data\\stylelib\\tableau-colorblind10.mplstyle -> build\\lib.win-amd64-cpython-311\\matplotlib\\mpl-data\\stylelib\n",
            "      copying lib\\matplotlib\\mpl-data\\sample_data\\embedding_in_wx3.xrc -> build\\lib.win-amd64-cpython-311\\matplotlib\\mpl-data\\sample_data\n",
            "      copying lib\\matplotlib\\mpl-data\\fonts\\pdfcorefonts\\Courier.afm -> build\\lib.win-amd64-cpython-311\\matplotlib\\mpl-data\\fonts\\pdfcorefonts\n",
            "      copying lib\\matplotlib\\backends\\web_backend\\jquery-ui-1.12.1\\jquery-ui.structure.css -> build\\lib.win-amd64-cpython-311\\matplotlib\\backends\\web_backend\\jquery-ui-1.12.1\n",
            "      copying lib\\matplotlib\\mpl-data\\stylelib\\seaborn-white.mplstyle -> build\\lib.win-amd64-cpython-311\\matplotlib\\mpl-data\\stylelib\n",
            "      copying lib\\matplotlib\\mpl-data\\fonts\\pdfcorefonts\\Helvetica-Oblique.afm -> build\\lib.win-amd64-cpython-311\\matplotlib\\mpl-data\\fonts\\pdfcorefonts\n",
            "      copying lib\\matplotlib\\mpl-data\\fonts\\pdfcorefonts\\Helvetica-BoldOblique.afm -> build\\lib.win-amd64-cpython-311\\matplotlib\\mpl-data\\fonts\\pdfcorefonts\n",
            "      copying lib\\matplotlib\\mpl-data\\stylelib\\seaborn-bright.mplstyle -> build\\lib.win-amd64-cpython-311\\matplotlib\\mpl-data\\stylelib\n",
            "      copying lib\\matplotlib\\mpl-data\\sample_data\\topobathy.npz -> build\\lib.win-amd64-cpython-311\\matplotlib\\mpl-data\\sample_data\n",
            "      copying lib\\matplotlib\\mpl-data\\sample_data\\s1045.ima.gz -> build\\lib.win-amd64-cpython-311\\matplotlib\\mpl-data\\sample_data\n",
            "      copying lib\\matplotlib\\mpl-data\\fonts\\ttf\\STIXGeneral.ttf -> build\\lib.win-amd64-cpython-311\\matplotlib\\mpl-data\\fonts\\ttf\n",
            "      copying lib\\matplotlib\\mpl-data\\fonts\\ttf\\DejaVuSans-Oblique.ttf -> build\\lib.win-amd64-cpython-311\\matplotlib\\mpl-data\\fonts\\ttf\n",
            "      copying lib\\matplotlib\\mpl-data\\images\\zoom_to_rect.gif -> build\\lib.win-amd64-cpython-311\\matplotlib\\mpl-data\\images\n",
            "      copying lib\\matplotlib\\backends\\web_backend\\js\\mpl_tornado.js -> build\\lib.win-amd64-cpython-311\\matplotlib\\backends\\web_backend\\js\n",
            "      copying lib\\matplotlib\\mpl-data\\images\\back.svg -> build\\lib.win-amd64-cpython-311\\matplotlib\\mpl-data\\images\n",
            "      copying lib\\matplotlib\\backends\\web_backend\\css\\page.css -> build\\lib.win-amd64-cpython-311\\matplotlib\\backends\\web_backend\\css\n",
            "      copying lib\\matplotlib\\backends\\web_backend\\ipython_inline_figure.html -> build\\lib.win-amd64-cpython-311\\matplotlib\\backends\\web_backend\n",
            "      copying lib\\matplotlib\\mpl-data\\fonts\\afm\\pbkdi8a.afm -> build\\lib.win-amd64-cpython-311\\matplotlib\\mpl-data\\fonts\\afm\n",
            "      copying lib\\matplotlib\\mpl-data\\fonts\\ttf\\DejaVuSerif-Italic.ttf -> build\\lib.win-amd64-cpython-311\\matplotlib\\mpl-data\\fonts\\ttf\n",
            "      copying lib\\matplotlib\\mpl-data\\images\\qt4_editor_options.svg -> build\\lib.win-amd64-cpython-311\\matplotlib\\mpl-data\\images\n",
            "      copying lib\\matplotlib\\mpl-data\\fonts\\afm\\pbkd8a.afm -> build\\lib.win-amd64-cpython-311\\matplotlib\\mpl-data\\fonts\\afm\n",
            "      copying lib\\matplotlib\\mpl-data\\images\\back_large.png -> build\\lib.win-amd64-cpython-311\\matplotlib\\mpl-data\\images\n",
            "      copying lib\\matplotlib\\mpl-data\\images\\filesave.pdf -> build\\lib.win-amd64-cpython-311\\matplotlib\\mpl-data\\images\n",
            "      copying lib\\matplotlib\\backends\\web_backend\\css\\boilerplate.css -> build\\lib.win-amd64-cpython-311\\matplotlib\\backends\\web_backend\\css\n",
            "      copying lib\\matplotlib\\mpl-data\\fonts\\ttf\\STIXSizTwoSymReg.ttf -> build\\lib.win-amd64-cpython-311\\matplotlib\\mpl-data\\fonts\\ttf\n",
            "      copying lib\\matplotlib\\mpl-data\\sample_data\\percent_bachelors_degrees_women_usa.csv -> build\\lib.win-amd64-cpython-311\\matplotlib\\mpl-data\\sample_data\n",
            "      copying lib\\matplotlib\\mpl-data\\images\\matplotlib.png -> build\\lib.win-amd64-cpython-311\\matplotlib\\mpl-data\\images\n",
            "      copying lib\\matplotlib\\mpl-data\\fonts\\ttf\\DejaVuSerif.ttf -> build\\lib.win-amd64-cpython-311\\matplotlib\\mpl-data\\fonts\\ttf\n",
            "      copying lib\\matplotlib\\mpl-data\\fonts\\pdfcorefonts\\Times-Bold.afm -> build\\lib.win-amd64-cpython-311\\matplotlib\\mpl-data\\fonts\\pdfcorefonts\n",
            "      copying lib\\matplotlib\\mpl-data\\images\\help_large.png -> build\\lib.win-amd64-cpython-311\\matplotlib\\mpl-data\\images\n",
            "      copying lib\\matplotlib\\mpl-data\\fonts\\afm\\pncr8a.afm -> build\\lib.win-amd64-cpython-311\\matplotlib\\mpl-data\\fonts\\afm\n",
            "      copying lib\\matplotlib\\mpl-data\\sample_data\\None_vs_nearest-pdf.png -> build\\lib.win-amd64-cpython-311\\matplotlib\\mpl-data\\sample_data\n",
            "      copying lib\\matplotlib\\mpl-data\\sample_data\\jacksboro_fault_dem.npz -> build\\lib.win-amd64-cpython-311\\matplotlib\\mpl-data\\sample_data\n",
            "      copying lib\\matplotlib\\mpl-data\\fonts\\ttf\\cmsy10.ttf -> build\\lib.win-amd64-cpython-311\\matplotlib\\mpl-data\\fonts\\ttf\n",
            "      copying lib\\matplotlib\\mpl-data\\sample_data\\msft.csv -> build\\lib.win-amd64-cpython-311\\matplotlib\\mpl-data\\sample_data\n",
            "      copying lib\\matplotlib\\mpl-data\\fonts\\ttf\\DejaVuSansMono.ttf -> build\\lib.win-amd64-cpython-311\\matplotlib\\mpl-data\\fonts\\ttf\n",
            "      UPDATING build\\lib.win-amd64-cpython-311\\matplotlib\\_version.py\n",
            "      set build\\lib.win-amd64-cpython-311\\matplotlib\\_version.py to '3.1.3'\n",
            "      running build_ext\n",
            "      building 'matplotlib.ft2font' extension\n",
            "      error: Microsoft Visual C++ 14.0 or greater is required. Get it with \"Microsoft C++ Build Tools\": https://visualstudio.microsoft.com/visual-cpp-build-tools/\n",
            "      [end of output]\n",
            "  \n",
            "  note: This error originates from a subprocess, and is likely not a problem with pip.\n",
            "error: legacy-install-failure\n",
            "\n",
            "× Encountered error while trying to install package.\n",
            "╰─> matplotlib\n",
            "\n",
            "note: This is an issue with the package mentioned above, not pip.\n",
            "hint: See above for output from the failure.\n"
          ]
        },
        {
          "name": "stdout",
          "output_type": "stream",
          "text": [
            "Requirement already satisfied: sklearn in c:\\python311\\lib\\site-packages (0.0.post1)\n",
            "Note: you may need to restart the kernel to use updated packages.\n"
          ]
        }
      ],
      "source": [
        "#Linkando libs externas ao colab\n",
        "%pip install sdv\n",
        "%pip install matplotlib==3.1.3\n",
        "%pip install sklearn"
      ]
    },
    {
      "cell_type": "code",
      "execution_count": 6,
      "metadata": {
        "id": "BR6BdUEIDAx5"
      },
      "outputs": [
        {
          "ename": "ModuleNotFoundError",
          "evalue": "No module named 'sklearn'",
          "output_type": "error",
          "traceback": [
            "\u001b[1;31m---------------------------------------------------------------------------\u001b[0m",
            "\u001b[1;31mModuleNotFoundError\u001b[0m                       Traceback (most recent call last)",
            "Cell \u001b[1;32mIn [6], line 2\u001b[0m\n\u001b[0;32m      1\u001b[0m \u001b[39mimport\u001b[39;00m \u001b[39mpandas\u001b[39;00m \u001b[39mas\u001b[39;00m \u001b[39mpd\u001b[39;00m\n\u001b[1;32m----> 2\u001b[0m \u001b[39mfrom\u001b[39;00m \u001b[39msklearn\u001b[39;00m\u001b[39m.\u001b[39;00m\u001b[39mmodel_selection\u001b[39;00m \u001b[39mimport\u001b[39;00m train_test_split\n\u001b[0;32m      3\u001b[0m \u001b[39mfrom\u001b[39;00m \u001b[39msklearn\u001b[39;00m\u001b[39m.\u001b[39;00m\u001b[39mmodel_selection\u001b[39;00m \u001b[39mimport\u001b[39;00m KFold\n\u001b[0;32m      4\u001b[0m \u001b[39mfrom\u001b[39;00m \u001b[39msklearn\u001b[39;00m\u001b[39m.\u001b[39;00m\u001b[39mpreprocessing\u001b[39;00m \u001b[39mimport\u001b[39;00m MinMaxScaler, OrdinalEncoder, LabelEncoder\n",
            "\u001b[1;31mModuleNotFoundError\u001b[0m: No module named 'sklearn'"
          ]
        }
      ],
      "source": [
        "import pandas as pd\n",
        "from sklearn.model_selection import train_test_split\n",
        "from sklearn.model_selection import KFold\n",
        "from sklearn.preprocessing import MinMaxScaler, OrdinalEncoder, LabelEncoder\n",
        "import seaborn as sns\n",
        "import matplotlib.pyplot as plt\n",
        "\n",
        "import numpy as np\n",
        "\n",
        "import random\n",
        "import math\n",
        "\n",
        "from sklearn.linear_model import LogisticRegression\n",
        "from sklearn.metrics import classification_report, confusion_matrix\n",
        "\n",
        "from sklearn.naive_bayes import GaussianNB\n",
        "\n",
        "from sklearn.svm import SVC\n",
        "\n",
        "from sdv.lite import TabularPreset\n",
        "from sdv.sampling.tabular import Condition\n",
        "\n",
        "import string"
      ]
    },
    {
      "cell_type": "code",
      "execution_count": null,
      "metadata": {
        "colab": {
          "base_uri": "https://localhost:8080/"
        },
        "id": "ACxP6u3sDJI5",
        "outputId": "4a17007f-a66e-41f1-a2bf-825e57506b9a"
      },
      "outputs": [
        {
          "name": "stderr",
          "output_type": "stream",
          "text": [
            "/usr/local/lib/python3.7/dist-packages/IPython/core/interactiveshell.py:3326: DtypeWarning: Columns (23,35) have mixed types.Specify dtype option on import or set low_memory=False.\n",
            "  exec(code_obj, self.user_global_ns, self.user_ns)\n"
          ]
        }
      ],
      "source": [
        "#Link para o dataset utilizado: https://www.kaggle.com/datasets/thec03u5/fifa-18-demo-player-dataset?resource=download\n",
        "# O objetivo é classificar a posição de cada jogador, dado seus atributos no jogo FIFA 18\n",
        "\n",
        "#Kernels do Kaggle similares:\n",
        "#https://www.kaggle.com/code/mahamatsaleh/140201132-fifa-predict-player-position\n",
        "\n",
        "DATASET_URL = 'https://drive.google.com/uc?id=1DPg-vED9mNs9fICGKuLj8Srhb9RQ7fmI&confirm=t'\n",
        "original_dataset = pd.read_csv(DATASET_URL)\n",
        "dataset = original_dataset.copy()\n",
        "dataset.drop(dataset.columns[0], axis=1, inplace=True)\n",
        "\n",
        "TRAIN_SIZE = 2/(3.0)"
      ]
    },
    {
      "cell_type": "code",
      "execution_count": null,
      "metadata": {
        "colab": {
          "base_uri": "https://localhost:8080/"
        },
        "id": "dmSqW87gDLCG",
        "outputId": "a2d96007-30c7-4ea6-cced-6bb681af9e7c"
      },
      "outputs": [
        {
          "data": {
            "text/plain": [
              "(17981, 74)"
            ]
          },
          "execution_count": 4,
          "metadata": {},
          "output_type": "execute_result"
        }
      ],
      "source": [
        "#17981 instâncias e 74 atributos(já descontando a coluna com os ids)\n",
        "dataset.shape"
      ]
    },
    {
      "cell_type": "code",
      "execution_count": null,
      "metadata": {
        "colab": {
          "base_uri": "https://localhost:8080/",
          "height": 366
        },
        "id": "SMEeVZSwDMpS",
        "outputId": "b805a1c3-1f39-4eae-ae14-221946f8194d"
      },
      "outputs": [
        {
          "data": {
            "text/html": [
              "\n",
              "  <div id=\"df-07039408-c512-45f9-afc7-def6a450007c\">\n",
              "    <div class=\"colab-df-container\">\n",
              "      <div>\n",
              "<style scoped>\n",
              "    .dataframe tbody tr th:only-of-type {\n",
              "        vertical-align: middle;\n",
              "    }\n",
              "\n",
              "    .dataframe tbody tr th {\n",
              "        vertical-align: top;\n",
              "    }\n",
              "\n",
              "    .dataframe thead th {\n",
              "        text-align: right;\n",
              "    }\n",
              "</style>\n",
              "<table border=\"1\" class=\"dataframe\">\n",
              "  <thead>\n",
              "    <tr style=\"text-align: right;\">\n",
              "      <th></th>\n",
              "      <th>Name</th>\n",
              "      <th>Age</th>\n",
              "      <th>Photo</th>\n",
              "      <th>Nationality</th>\n",
              "      <th>Flag</th>\n",
              "      <th>Overall</th>\n",
              "      <th>Potential</th>\n",
              "      <th>Club</th>\n",
              "      <th>Club Logo</th>\n",
              "      <th>Value</th>\n",
              "      <th>...</th>\n",
              "      <th>RB</th>\n",
              "      <th>RCB</th>\n",
              "      <th>RCM</th>\n",
              "      <th>RDM</th>\n",
              "      <th>RF</th>\n",
              "      <th>RM</th>\n",
              "      <th>RS</th>\n",
              "      <th>RW</th>\n",
              "      <th>RWB</th>\n",
              "      <th>ST</th>\n",
              "    </tr>\n",
              "  </thead>\n",
              "  <tbody>\n",
              "    <tr>\n",
              "      <th>0</th>\n",
              "      <td>Cristiano Ronaldo</td>\n",
              "      <td>32</td>\n",
              "      <td>https://cdn.sofifa.org/48/18/players/20801.png</td>\n",
              "      <td>Portugal</td>\n",
              "      <td>https://cdn.sofifa.org/flags/38.png</td>\n",
              "      <td>94</td>\n",
              "      <td>94</td>\n",
              "      <td>Real Madrid CF</td>\n",
              "      <td>https://cdn.sofifa.org/24/18/teams/243.png</td>\n",
              "      <td>€95.5M</td>\n",
              "      <td>...</td>\n",
              "      <td>61.0</td>\n",
              "      <td>53.0</td>\n",
              "      <td>82.0</td>\n",
              "      <td>62.0</td>\n",
              "      <td>91.0</td>\n",
              "      <td>89.0</td>\n",
              "      <td>92.0</td>\n",
              "      <td>91.0</td>\n",
              "      <td>66.0</td>\n",
              "      <td>92.0</td>\n",
              "    </tr>\n",
              "    <tr>\n",
              "      <th>1</th>\n",
              "      <td>L. Messi</td>\n",
              "      <td>30</td>\n",
              "      <td>https://cdn.sofifa.org/48/18/players/158023.png</td>\n",
              "      <td>Argentina</td>\n",
              "      <td>https://cdn.sofifa.org/flags/52.png</td>\n",
              "      <td>93</td>\n",
              "      <td>93</td>\n",
              "      <td>FC Barcelona</td>\n",
              "      <td>https://cdn.sofifa.org/24/18/teams/241.png</td>\n",
              "      <td>€105M</td>\n",
              "      <td>...</td>\n",
              "      <td>57.0</td>\n",
              "      <td>45.0</td>\n",
              "      <td>84.0</td>\n",
              "      <td>59.0</td>\n",
              "      <td>92.0</td>\n",
              "      <td>90.0</td>\n",
              "      <td>88.0</td>\n",
              "      <td>91.0</td>\n",
              "      <td>62.0</td>\n",
              "      <td>88.0</td>\n",
              "    </tr>\n",
              "    <tr>\n",
              "      <th>2</th>\n",
              "      <td>Neymar</td>\n",
              "      <td>25</td>\n",
              "      <td>https://cdn.sofifa.org/48/18/players/190871.png</td>\n",
              "      <td>Brazil</td>\n",
              "      <td>https://cdn.sofifa.org/flags/54.png</td>\n",
              "      <td>92</td>\n",
              "      <td>94</td>\n",
              "      <td>Paris Saint-Germain</td>\n",
              "      <td>https://cdn.sofifa.org/24/18/teams/73.png</td>\n",
              "      <td>€123M</td>\n",
              "      <td>...</td>\n",
              "      <td>59.0</td>\n",
              "      <td>46.0</td>\n",
              "      <td>79.0</td>\n",
              "      <td>59.0</td>\n",
              "      <td>88.0</td>\n",
              "      <td>87.0</td>\n",
              "      <td>84.0</td>\n",
              "      <td>89.0</td>\n",
              "      <td>64.0</td>\n",
              "      <td>84.0</td>\n",
              "    </tr>\n",
              "    <tr>\n",
              "      <th>3</th>\n",
              "      <td>L. Suárez</td>\n",
              "      <td>30</td>\n",
              "      <td>https://cdn.sofifa.org/48/18/players/176580.png</td>\n",
              "      <td>Uruguay</td>\n",
              "      <td>https://cdn.sofifa.org/flags/60.png</td>\n",
              "      <td>92</td>\n",
              "      <td>92</td>\n",
              "      <td>FC Barcelona</td>\n",
              "      <td>https://cdn.sofifa.org/24/18/teams/241.png</td>\n",
              "      <td>€97M</td>\n",
              "      <td>...</td>\n",
              "      <td>64.0</td>\n",
              "      <td>58.0</td>\n",
              "      <td>80.0</td>\n",
              "      <td>65.0</td>\n",
              "      <td>88.0</td>\n",
              "      <td>85.0</td>\n",
              "      <td>88.0</td>\n",
              "      <td>87.0</td>\n",
              "      <td>68.0</td>\n",
              "      <td>88.0</td>\n",
              "    </tr>\n",
              "    <tr>\n",
              "      <th>4</th>\n",
              "      <td>M. Neuer</td>\n",
              "      <td>31</td>\n",
              "      <td>https://cdn.sofifa.org/48/18/players/167495.png</td>\n",
              "      <td>Germany</td>\n",
              "      <td>https://cdn.sofifa.org/flags/21.png</td>\n",
              "      <td>92</td>\n",
              "      <td>92</td>\n",
              "      <td>FC Bayern Munich</td>\n",
              "      <td>https://cdn.sofifa.org/24/18/teams/21.png</td>\n",
              "      <td>€61M</td>\n",
              "      <td>...</td>\n",
              "      <td>NaN</td>\n",
              "      <td>NaN</td>\n",
              "      <td>NaN</td>\n",
              "      <td>NaN</td>\n",
              "      <td>NaN</td>\n",
              "      <td>NaN</td>\n",
              "      <td>NaN</td>\n",
              "      <td>NaN</td>\n",
              "      <td>NaN</td>\n",
              "      <td>NaN</td>\n",
              "    </tr>\n",
              "  </tbody>\n",
              "</table>\n",
              "<p>5 rows × 74 columns</p>\n",
              "</div>\n",
              "      <button class=\"colab-df-convert\" onclick=\"convertToInteractive('df-07039408-c512-45f9-afc7-def6a450007c')\"\n",
              "              title=\"Convert this dataframe to an interactive table.\"\n",
              "              style=\"display:none;\">\n",
              "        \n",
              "  <svg xmlns=\"http://www.w3.org/2000/svg\" height=\"24px\"viewBox=\"0 0 24 24\"\n",
              "       width=\"24px\">\n",
              "    <path d=\"M0 0h24v24H0V0z\" fill=\"none\"/>\n",
              "    <path d=\"M18.56 5.44l.94 2.06.94-2.06 2.06-.94-2.06-.94-.94-2.06-.94 2.06-2.06.94zm-11 1L8.5 8.5l.94-2.06 2.06-.94-2.06-.94L8.5 2.5l-.94 2.06-2.06.94zm10 10l.94 2.06.94-2.06 2.06-.94-2.06-.94-.94-2.06-.94 2.06-2.06.94z\"/><path d=\"M17.41 7.96l-1.37-1.37c-.4-.4-.92-.59-1.43-.59-.52 0-1.04.2-1.43.59L10.3 9.45l-7.72 7.72c-.78.78-.78 2.05 0 2.83L4 21.41c.39.39.9.59 1.41.59.51 0 1.02-.2 1.41-.59l7.78-7.78 2.81-2.81c.8-.78.8-2.07 0-2.86zM5.41 20L4 18.59l7.72-7.72 1.47 1.35L5.41 20z\"/>\n",
              "  </svg>\n",
              "      </button>\n",
              "      \n",
              "  <style>\n",
              "    .colab-df-container {\n",
              "      display:flex;\n",
              "      flex-wrap:wrap;\n",
              "      gap: 12px;\n",
              "    }\n",
              "\n",
              "    .colab-df-convert {\n",
              "      background-color: #E8F0FE;\n",
              "      border: none;\n",
              "      border-radius: 50%;\n",
              "      cursor: pointer;\n",
              "      display: none;\n",
              "      fill: #1967D2;\n",
              "      height: 32px;\n",
              "      padding: 0 0 0 0;\n",
              "      width: 32px;\n",
              "    }\n",
              "\n",
              "    .colab-df-convert:hover {\n",
              "      background-color: #E2EBFA;\n",
              "      box-shadow: 0px 1px 2px rgba(60, 64, 67, 0.3), 0px 1px 3px 1px rgba(60, 64, 67, 0.15);\n",
              "      fill: #174EA6;\n",
              "    }\n",
              "\n",
              "    [theme=dark] .colab-df-convert {\n",
              "      background-color: #3B4455;\n",
              "      fill: #D2E3FC;\n",
              "    }\n",
              "\n",
              "    [theme=dark] .colab-df-convert:hover {\n",
              "      background-color: #434B5C;\n",
              "      box-shadow: 0px 1px 3px 1px rgba(0, 0, 0, 0.15);\n",
              "      filter: drop-shadow(0px 1px 2px rgba(0, 0, 0, 0.3));\n",
              "      fill: #FFFFFF;\n",
              "    }\n",
              "  </style>\n",
              "\n",
              "      <script>\n",
              "        const buttonEl =\n",
              "          document.querySelector('#df-07039408-c512-45f9-afc7-def6a450007c button.colab-df-convert');\n",
              "        buttonEl.style.display =\n",
              "          google.colab.kernel.accessAllowed ? 'block' : 'none';\n",
              "\n",
              "        async function convertToInteractive(key) {\n",
              "          const element = document.querySelector('#df-07039408-c512-45f9-afc7-def6a450007c');\n",
              "          const dataTable =\n",
              "            await google.colab.kernel.invokeFunction('convertToInteractive',\n",
              "                                                     [key], {});\n",
              "          if (!dataTable) return;\n",
              "\n",
              "          const docLinkHtml = 'Like what you see? Visit the ' +\n",
              "            '<a target=\"_blank\" href=https://colab.research.google.com/notebooks/data_table.ipynb>data table notebook</a>'\n",
              "            + ' to learn more about interactive tables.';\n",
              "          element.innerHTML = '';\n",
              "          dataTable['output_type'] = 'display_data';\n",
              "          await google.colab.output.renderOutput(dataTable, element);\n",
              "          const docLink = document.createElement('div');\n",
              "          docLink.innerHTML = docLinkHtml;\n",
              "          element.appendChild(docLink);\n",
              "        }\n",
              "      </script>\n",
              "    </div>\n",
              "  </div>\n",
              "  "
            ],
            "text/plain": [
              "                Name  Age                                            Photo  \\\n",
              "0  Cristiano Ronaldo   32   https://cdn.sofifa.org/48/18/players/20801.png   \n",
              "1           L. Messi   30  https://cdn.sofifa.org/48/18/players/158023.png   \n",
              "2             Neymar   25  https://cdn.sofifa.org/48/18/players/190871.png   \n",
              "3          L. Suárez   30  https://cdn.sofifa.org/48/18/players/176580.png   \n",
              "4           M. Neuer   31  https://cdn.sofifa.org/48/18/players/167495.png   \n",
              "\n",
              "  Nationality                                 Flag  Overall  Potential  \\\n",
              "0    Portugal  https://cdn.sofifa.org/flags/38.png       94         94   \n",
              "1   Argentina  https://cdn.sofifa.org/flags/52.png       93         93   \n",
              "2      Brazil  https://cdn.sofifa.org/flags/54.png       92         94   \n",
              "3     Uruguay  https://cdn.sofifa.org/flags/60.png       92         92   \n",
              "4     Germany  https://cdn.sofifa.org/flags/21.png       92         92   \n",
              "\n",
              "                  Club                                   Club Logo   Value  \\\n",
              "0       Real Madrid CF  https://cdn.sofifa.org/24/18/teams/243.png  €95.5M   \n",
              "1         FC Barcelona  https://cdn.sofifa.org/24/18/teams/241.png   €105M   \n",
              "2  Paris Saint-Germain   https://cdn.sofifa.org/24/18/teams/73.png   €123M   \n",
              "3         FC Barcelona  https://cdn.sofifa.org/24/18/teams/241.png    €97M   \n",
              "4     FC Bayern Munich   https://cdn.sofifa.org/24/18/teams/21.png    €61M   \n",
              "\n",
              "   ...    RB   RCB   RCM   RDM    RF    RM    RS    RW   RWB    ST  \n",
              "0  ...  61.0  53.0  82.0  62.0  91.0  89.0  92.0  91.0  66.0  92.0  \n",
              "1  ...  57.0  45.0  84.0  59.0  92.0  90.0  88.0  91.0  62.0  88.0  \n",
              "2  ...  59.0  46.0  79.0  59.0  88.0  87.0  84.0  89.0  64.0  84.0  \n",
              "3  ...  64.0  58.0  80.0  65.0  88.0  85.0  88.0  87.0  68.0  88.0  \n",
              "4  ...   NaN   NaN   NaN   NaN   NaN   NaN   NaN   NaN   NaN   NaN  \n",
              "\n",
              "[5 rows x 74 columns]"
            ]
          },
          "execution_count": 5,
          "metadata": {},
          "output_type": "execute_result"
        }
      ],
      "source": [
        "dataset.head()"
      ]
    },
    {
      "cell_type": "code",
      "execution_count": null,
      "metadata": {
        "colab": {
          "base_uri": "https://localhost:8080/"
        },
        "id": "6zzS8SM3JhqM",
        "outputId": "a888710a-edfc-41f3-c8f7-b1eab85c269e"
      },
      "outputs": [
        {
          "data": {
            "text/plain": [
              "Index(['Name', 'Age', 'Photo', 'Nationality', 'Flag', 'Overall', 'Potential',\n",
              "       'Club', 'Club Logo', 'Value', 'Wage', 'Special', 'Acceleration',\n",
              "       'Aggression', 'Agility', 'Balance', 'Ball control', 'Composure',\n",
              "       'Crossing', 'Curve', 'Dribbling', 'Finishing', 'Free kick accuracy',\n",
              "       'GK diving', 'GK handling', 'GK kicking', 'GK positioning',\n",
              "       'GK reflexes', 'Heading accuracy', 'Interceptions', 'Jumping',\n",
              "       'Long passing', 'Long shots', 'Marking', 'Penalties', 'Positioning',\n",
              "       'Reactions', 'Short passing', 'Shot power', 'Sliding tackle',\n",
              "       'Sprint speed', 'Stamina', 'Standing tackle', 'Strength', 'Vision',\n",
              "       'Volleys', 'CAM', 'CB', 'CDM', 'CF', 'CM', 'ID', 'LAM', 'LB', 'LCB',\n",
              "       'LCM', 'LDM', 'LF', 'LM', 'LS', 'LW', 'LWB', 'Preferred Positions',\n",
              "       'RAM', 'RB', 'RCB', 'RCM', 'RDM', 'RF', 'RM', 'RS', 'RW', 'RWB', 'ST'],\n",
              "      dtype='object')"
            ]
          },
          "execution_count": 6,
          "metadata": {},
          "output_type": "execute_result"
        }
      ],
      "source": [
        "dataset.columns"
      ]
    },
    {
      "cell_type": "code",
      "execution_count": null,
      "metadata": {
        "colab": {
          "base_uri": "https://localhost:8080/"
        },
        "id": "0z7LEP0pZfkz",
        "outputId": "5364963a-65f8-4c83-fea4-590671d31313"
      },
      "outputs": [
        {
          "data": {
            "text/plain": [
              "array(['Portugal', 'Argentina', 'Brazil', 'Uruguay', 'Germany', 'Poland',\n",
              "       'Spain', 'Belgium', 'Chile', 'Croatia', 'Wales', 'Italy',\n",
              "       'Slovenia', 'France', 'Gabon', 'Sweden', 'Netherlands', 'Denmark',\n",
              "       'Slovakia', 'England', 'Colombia', 'Austria', 'Greece',\n",
              "       'Czech Republic', 'Costa Rica', 'Armenia', 'Bosnia Herzegovina',\n",
              "       'Ivory Coast', 'Senegal', 'Switzerland', 'Morocco', 'Guinea',\n",
              "       'Egypt', 'Algeria', 'Cameroon', 'Serbia', 'Japan', 'Turkey',\n",
              "       'Ecuador', 'Montenegro', 'Korea Republic', 'Kenya', 'Iceland',\n",
              "       'Mexico', 'Norway', 'DR Congo', 'Ukraine', 'Russia', 'Finland',\n",
              "       'Republic of Ireland', 'United States', 'Venezuela', 'Ghana',\n",
              "       'Uzbekistan', 'Nigeria', 'Canada', 'Paraguay', 'Romania',\n",
              "       'Albania', 'Burkina Faso', 'Cape Verde', 'New Zealand',\n",
              "       'Northern Ireland', 'Syria', 'Peru', 'Scotland', 'Bulgaria',\n",
              "       'Angola', 'Australia', 'South Africa', 'Jamaica', 'Tunisia',\n",
              "       'Mozambique', 'Iran', 'Mali', 'Cuba', 'Hungary', 'Belarus',\n",
              "       'Saudi Arabia', 'China PR', 'Israel', 'Benin', 'Georgia',\n",
              "       'Dominican Republic', 'Lithuania', 'Kosovo', 'Moldova', 'Bolivia',\n",
              "       'Togo', 'FYR Macedonia', 'Guinea Bissau', 'Honduras', 'Congo',\n",
              "       'Chad', 'Curacao', 'Sierra Leone', 'Gambia', 'Iraq',\n",
              "       'Trinidad & Tobago', 'Zimbabwe', 'Cyprus', 'Latvia', 'Niger',\n",
              "       'Liechtenstein', 'Oman', 'Tanzania', 'Zambia', 'Libya', 'Haiti',\n",
              "       'Madagascar', 'Estonia', 'Guatemala', 'New Caledonia', 'Korea DPR',\n",
              "       'Bermuda', 'Comoros', 'Panama', 'Palestine', 'Equatorial Guinea',\n",
              "       'Eritrea', 'Luxembourg', 'Kuwait', 'Suriname', 'Uganda',\n",
              "       'Mauritania', 'El Salvador', 'Central African Rep.', 'Azerbaijan',\n",
              "       'St Kitts Nevis', 'Fiji', 'Guam', 'Lebanon', 'Qatar',\n",
              "       'Philippines', 'Somalia', 'Kazakhstan', 'Montserrat', 'Ethiopia',\n",
              "       'Mauritius', 'India', 'Liberia', 'Puerto Rico', 'Namibia',\n",
              "       'Faroe Islands', 'Guyana', 'Thailand', 'Barbados',\n",
              "       'Antigua & Barbuda', 'Gibraltar', 'São Tomé & Príncipe', 'Grenada',\n",
              "       'Belize', 'Burundi', 'Turkmenistan', 'Swaziland', 'Malta',\n",
              "       'St Lucia', 'Sudan', 'Vietnam', 'Afghanistan', 'Sri Lanka',\n",
              "       'Kyrgyzstan', 'Brunei Darussalam', 'San Marino', 'Hong Kong'],\n",
              "      dtype=object)"
            ]
          },
          "execution_count": 7,
          "metadata": {},
          "output_type": "execute_result"
        }
      ],
      "source": [
        "dataset['Nationality'].unique()"
      ]
    },
    {
      "cell_type": "code",
      "execution_count": null,
      "metadata": {
        "colab": {
          "base_uri": "https://localhost:8080/",
          "height": 296
        },
        "id": "sEvXHaT3BdzO",
        "outputId": "b954fc56-425d-451a-94e7-fb4f52bf88ca"
      },
      "outputs": [
        {
          "data": {
            "text/plain": [
              "Text(0.5, 0, 'Age')"
            ]
          },
          "execution_count": 8,
          "metadata": {},
          "output_type": "execute_result"
        },
        {
          "data": {
            "image/png": "[encoded data removed]",
            "text/plain": [
              "<Figure size 432x288 with 1 Axes>"
            ]
          },
          "metadata": {
            "needs_background": "light"
          },
          "output_type": "display_data"
        }
      ],
      "source": [
        "plt.boxplot(dataset['Age'])\n",
        "plt.xlabel('Age')\n",
        "\n",
        "#Irei avaliar mais para frente se vale a pena remover esses outliers aqui ou não"
      ]
    },
    {
      "cell_type": "code",
      "execution_count": null,
      "metadata": {
        "colab": {
          "base_uri": "https://localhost:8080/"
        },
        "id": "HPxfxEGkGC8s",
        "outputId": "fe025639-d051-47c6-d134-fcc92d51b0d3"
      },
      "outputs": [
        {
          "data": {
            "text/plain": [
              "Name                                            B. Richardson\n",
              "Age                                                        47\n",
              "Photo          https://cdn.sofifa.org/48/18/players/11728.png\n",
              "Nationality                                           England\n",
              "Flag                      https://cdn.sofifa.org/flags/14.png\n",
              "                                    ...                      \n",
              "RM                                                        NaN\n",
              "RS                                                        NaN\n",
              "RW                                                        NaN\n",
              "RWB                                                       NaN\n",
              "ST                                                        NaN\n",
              "Name: 17977, Length: 74, dtype: object"
            ]
          },
          "execution_count": 9,
          "metadata": {},
          "output_type": "execute_result"
        }
      ],
      "source": [
        "# O jogador mais velho do dataset\n",
        "dataset.loc[dataset['Age'].idxmax()]"
      ]
    },
    {
      "cell_type": "code",
      "execution_count": null,
      "metadata": {
        "colab": {
          "base_uri": "https://localhost:8080/",
          "height": 296
        },
        "id": "G9dcIPhPDnSu",
        "outputId": "718b8553-c45c-4648-ef1d-dde05dde1000"
      },
      "outputs": [
        {
          "data": {
            "text/plain": [
              "Text(0.5, 0, 'Overall')"
            ]
          },
          "execution_count": 10,
          "metadata": {},
          "output_type": "execute_result"
        },
        {
          "data": {
            "image/png": "[encoded data removed]",
            "text/plain": [
              "<Figure size 432x288 with 1 Axes>"
            ]
          },
          "metadata": {
            "needs_background": "light"
          },
          "output_type": "display_data"
        }
      ],
      "source": [
        "#Não posso desconsiderar os outliers nessa situação, pois eles são os melhores jogadores, com o overall mais alto\n",
        "plt.boxplot(dataset['Overall'])\n",
        "plt.xlabel('Overall')"
      ]
    },
    {
      "cell_type": "code",
      "execution_count": null,
      "metadata": {
        "id": "km1axYmpHS42"
      },
      "outputs": [],
      "source": [
        "def execute_data_preprocessing(dataset):\n",
        "  #https://scikit-learn.org/stable/modules/preprocessing.html\n",
        "\n",
        "  df = dataset.copy()\n",
        "\n",
        "  #dataset está ordenado de forma decrescente pela coluna 'Overall'\n",
        "  #realizando um embaralhamento dos dados\n",
        "  df = df.sample(frac=1).reset_index(drop=True)\n",
        "\n",
        "  #atribuindo 0 para os valores NaN\n",
        "  df = df.fillna(0.0)\n",
        "\n",
        "  #criando colunas 'Value (M)','Wage (M)' e 'Position', parseando os valores das colunas 'Value' e 'Preferred Positions'\n",
        "  #https://www.kaggle.com/code/habibmrad1983/faceting-with-seaborn\n",
        "  df['Value Unit'] = df['Value'].str[-1]\n",
        "  df['Value (M)'] = np.where(df['Value Unit'] == '0', 0, df['Value'].str[1:-1].replace(r'[a-zA-Z]',''))\n",
        "  df['Value (M)'] = df['Value (M)'].astype(float)\n",
        "  df['Value (M)'] = np.where(df['Value Unit'] == 'M', \n",
        "                                      df['Value (M)'], \n",
        "                                      df['Value (M)']/1000)\n",
        "  \n",
        "  df['Wage Unit'] = df['Wage'].str[-1]\n",
        "  df['Wage (M)'] = np.where(df['Wage Unit'] == '0', 0, df['Wage'].str[1:-1].replace(r'[a-zA-Z]',''))\n",
        "  df['Wage (M)'] = df['Wage (M)'].astype(float)\n",
        "  df['Wage (M)'] = np.where(df['Wage Unit'] == 'M', \n",
        "                                      df['Wage (M)'], \n",
        "                                      df['Wage (M)']/1000)\n",
        "  \n",
        "  df = df.assign(Value=df['Value (M)'], Wage=df['Wage (M)'], Position=df['Preferred Positions'].str.split().str[0])\n",
        "\n",
        "  #Tratando registros em que o clube do jogador não está preenchido\n",
        "  df['Club'] = df['Club'].str[:].map(lambda x: x if str(x).lower() != 'nan' else 'Free Agent')\n",
        "\n",
        "  #transformando atributos categóricos em numéricos\n",
        "  #https://stackoverflow.com/questions/56502864/using-ordinalencoder-to-transform-categorical-values\n",
        "  categorical_features = ['Nationality', 'Club']\n",
        "  categorical_features_transformed = ['Nationality_cat', 'Club_cat']\n",
        "  categorical_features_encoder = OrdinalEncoder()\n",
        "  categorical_features_encoder.fit(df[categorical_features])\n",
        "  df[categorical_features_transformed] = categorical_features_encoder.transform(df[categorical_features])\n",
        "\n",
        "  #A posição do jogador é o atributo alvo\n",
        "  # Irei encodá-lo usando o LabelEncoder\n",
        "  #https://scikit-learn.org/stable/modules/generated/sklearn.preprocessing.LabelEncoder.html\n",
        "  label_encoder = LabelEncoder()\n",
        "  label_encoder.fit(df['Position'])\n",
        "  df['Position_cat'] = label_encoder.transform(df['Position'])\n",
        "\n",
        "  def parse_player_attribute(att_str):\n",
        "    att_str = str(att_str)\n",
        "\n",
        "    if(att_str.lower() == 'nan'):\n",
        "      return 0\n",
        "\n",
        "    return eval(att_str)\n",
        "  \n",
        "  player_attribute_columns = [\n",
        "    'Acceleration',\n",
        "    'Aggression',\n",
        "    'Agility',\n",
        "    'Balance',\n",
        "    'Ball control',\n",
        "    'Composure',\n",
        "    'Crossing',\n",
        "    'Curve',\n",
        "    'Dribbling',\n",
        "    'Finishing',\n",
        "    'Free kick accuracy',\n",
        "    'GK diving',\n",
        "    'GK handling',\n",
        "    'GK kicking',\n",
        "    'GK positioning',\n",
        "    'GK reflexes',\n",
        "    'Heading accuracy',\n",
        "    'Interceptions',\n",
        "    'Jumping',\n",
        "    'Long passing',\n",
        "    'Long shots',\n",
        "    'Marking',\n",
        "    'Penalties',\n",
        "    'Positioning',\n",
        "    'Reactions',\n",
        "    'Short passing',\n",
        "    'Shot power',\n",
        "    'Sliding tackle',\n",
        "    'Sprint speed',\n",
        "    'Stamina',\n",
        "    'Standing tackle',\n",
        "    'Strength',\n",
        "    'Vision',\n",
        "    'Volleys',\n",
        "    ]\n",
        "\n",
        "  for column in player_attribute_columns:\n",
        "    df[column] = df[column].str[:].map(parse_player_attribute)\n",
        "\n",
        "  return df, categorical_features_encoder, label_encoder"
      ]
    },
    {
      "cell_type": "code",
      "execution_count": null,
      "metadata": {
        "colab": {
          "base_uri": "https://localhost:8080/",
          "height": 404
        },
        "id": "3WuB_TWKKQ6a",
        "outputId": "d9dd5160-c387-49cd-e072-df1508ff1081"
      },
      "outputs": [
        {
          "data": {
            "text/html": [
              "\n",
              "  <div id=\"df-e425f18c-2b2b-48ce-bc3c-bacec16e8469\">\n",
              "    <div class=\"colab-df-container\">\n",
              "      <div>\n",
              "<style scoped>\n",
              "    .dataframe tbody tr th:only-of-type {\n",
              "        vertical-align: middle;\n",
              "    }\n",
              "\n",
              "    .dataframe tbody tr th {\n",
              "        vertical-align: top;\n",
              "    }\n",
              "\n",
              "    .dataframe thead th {\n",
              "        text-align: right;\n",
              "    }\n",
              "</style>\n",
              "<table border=\"1\" class=\"dataframe\">\n",
              "  <thead>\n",
              "    <tr style=\"text-align: right;\">\n",
              "      <th></th>\n",
              "      <th>Name</th>\n",
              "      <th>Age</th>\n",
              "      <th>Photo</th>\n",
              "      <th>Nationality</th>\n",
              "      <th>Flag</th>\n",
              "      <th>Overall</th>\n",
              "      <th>Potential</th>\n",
              "      <th>Club</th>\n",
              "      <th>Club Logo</th>\n",
              "      <th>Value</th>\n",
              "      <th>...</th>\n",
              "      <th>RWB</th>\n",
              "      <th>ST</th>\n",
              "      <th>Value Unit</th>\n",
              "      <th>Value (M)</th>\n",
              "      <th>Wage Unit</th>\n",
              "      <th>Wage (M)</th>\n",
              "      <th>Position</th>\n",
              "      <th>Nationality_cat</th>\n",
              "      <th>Club_cat</th>\n",
              "      <th>Position_cat</th>\n",
              "    </tr>\n",
              "  </thead>\n",
              "  <tbody>\n",
              "    <tr>\n",
              "      <th>0</th>\n",
              "      <td>D. Murillo</td>\n",
              "      <td>23</td>\n",
              "      <td>https://cdn.sofifa.org/48/18/players/214081.png</td>\n",
              "      <td>Colombia</td>\n",
              "      <td>https://cdn.sofifa.org/flags/56.png</td>\n",
              "      <td>64</td>\n",
              "      <td>70</td>\n",
              "      <td>CPD Junior Barranquilla</td>\n",
              "      <td>https://cdn.sofifa.org/24/18/teams/101101.png</td>\n",
              "      <td>0.525</td>\n",
              "      <td>...</td>\n",
              "      <td>64.0</td>\n",
              "      <td>53.0</td>\n",
              "      <td>K</td>\n",
              "      <td>0.525</td>\n",
              "      <td>K</td>\n",
              "      <td>0.001</td>\n",
              "      <td>RB</td>\n",
              "      <td>30.0</td>\n",
              "      <td>127.0</td>\n",
              "      <td>10</td>\n",
              "    </tr>\n",
              "    <tr>\n",
              "      <th>1</th>\n",
              "      <td>D. Rusov</td>\n",
              "      <td>24</td>\n",
              "      <td>https://cdn.sofifa.org/48/18/players/227654.png</td>\n",
              "      <td>Slovakia</td>\n",
              "      <td>https://cdn.sofifa.org/flags/43.png</td>\n",
              "      <td>64</td>\n",
              "      <td>66</td>\n",
              "      <td>Piast Gliwice</td>\n",
              "      <td>https://cdn.sofifa.org/24/18/teams/111086.png</td>\n",
              "      <td>0.400</td>\n",
              "      <td>...</td>\n",
              "      <td>0.0</td>\n",
              "      <td>0.0</td>\n",
              "      <td>K</td>\n",
              "      <td>0.400</td>\n",
              "      <td>K</td>\n",
              "      <td>0.002</td>\n",
              "      <td>GK</td>\n",
              "      <td>133.0</td>\n",
              "      <td>442.0</td>\n",
              "      <td>5</td>\n",
              "    </tr>\n",
              "    <tr>\n",
              "      <th>2</th>\n",
              "      <td>D. Hyam</td>\n",
              "      <td>21</td>\n",
              "      <td>https://cdn.sofifa.org/48/18/players/221281.png</td>\n",
              "      <td>Scotland</td>\n",
              "      <td>https://cdn.sofifa.org/flags/42.png</td>\n",
              "      <td>60</td>\n",
              "      <td>72</td>\n",
              "      <td>Coventry City</td>\n",
              "      <td>https://cdn.sofifa.org/24/18/teams/1800.png</td>\n",
              "      <td>0.325</td>\n",
              "      <td>...</td>\n",
              "      <td>51.0</td>\n",
              "      <td>41.0</td>\n",
              "      <td>K</td>\n",
              "      <td>0.325</td>\n",
              "      <td>K</td>\n",
              "      <td>0.002</td>\n",
              "      <td>CB</td>\n",
              "      <td>129.0</td>\n",
              "      <td>170.0</td>\n",
              "      <td>1</td>\n",
              "    </tr>\n",
              "    <tr>\n",
              "      <th>3</th>\n",
              "      <td>R. Petretta</td>\n",
              "      <td>20</td>\n",
              "      <td>https://cdn.sofifa.org/48/18/players/237642.png</td>\n",
              "      <td>Italy</td>\n",
              "      <td>https://cdn.sofifa.org/flags/27.png</td>\n",
              "      <td>60</td>\n",
              "      <td>76</td>\n",
              "      <td>FC Basel</td>\n",
              "      <td>https://cdn.sofifa.org/24/18/teams/896.png</td>\n",
              "      <td>0.400</td>\n",
              "      <td>...</td>\n",
              "      <td>60.0</td>\n",
              "      <td>49.0</td>\n",
              "      <td>K</td>\n",
              "      <td>0.400</td>\n",
              "      <td>K</td>\n",
              "      <td>0.004</td>\n",
              "      <td>LB</td>\n",
              "      <td>77.0</td>\n",
              "      <td>221.0</td>\n",
              "      <td>6</td>\n",
              "    </tr>\n",
              "    <tr>\n",
              "      <th>4</th>\n",
              "      <td>V. Le Goff</td>\n",
              "      <td>27</td>\n",
              "      <td>https://cdn.sofifa.org/48/18/players/193148.png</td>\n",
              "      <td>France</td>\n",
              "      <td>https://cdn.sofifa.org/flags/18.png</td>\n",
              "      <td>73</td>\n",
              "      <td>74</td>\n",
              "      <td>FC Lorient</td>\n",
              "      <td>https://cdn.sofifa.org/24/18/teams/217.png</td>\n",
              "      <td>3.700</td>\n",
              "      <td>...</td>\n",
              "      <td>73.0</td>\n",
              "      <td>63.0</td>\n",
              "      <td>M</td>\n",
              "      <td>3.700</td>\n",
              "      <td>K</td>\n",
              "      <td>0.008</td>\n",
              "      <td>LB</td>\n",
              "      <td>54.0</td>\n",
              "      <td>232.0</td>\n",
              "      <td>6</td>\n",
              "    </tr>\n",
              "  </tbody>\n",
              "</table>\n",
              "<p>5 rows × 82 columns</p>\n",
              "</div>\n",
              "      <button class=\"colab-df-convert\" onclick=\"convertToInteractive('df-e425f18c-2b2b-48ce-bc3c-bacec16e8469')\"\n",
              "              title=\"Convert this dataframe to an interactive table.\"\n",
              "              style=\"display:none;\">\n",
              "        \n",
              "  <svg xmlns=\"http://www.w3.org/2000/svg\" height=\"24px\"viewBox=\"0 0 24 24\"\n",
              "       width=\"24px\">\n",
              "    <path d=\"M0 0h24v24H0V0z\" fill=\"none\"/>\n",
              "    <path d=\"M18.56 5.44l.94 2.06.94-2.06 2.06-.94-2.06-.94-.94-2.06-.94 2.06-2.06.94zm-11 1L8.5 8.5l.94-2.06 2.06-.94-2.06-.94L8.5 2.5l-.94 2.06-2.06.94zm10 10l.94 2.06.94-2.06 2.06-.94-2.06-.94-.94-2.06-.94 2.06-2.06.94z\"/><path d=\"M17.41 7.96l-1.37-1.37c-.4-.4-.92-.59-1.43-.59-.52 0-1.04.2-1.43.59L10.3 9.45l-7.72 7.72c-.78.78-.78 2.05 0 2.83L4 21.41c.39.39.9.59 1.41.59.51 0 1.02-.2 1.41-.59l7.78-7.78 2.81-2.81c.8-.78.8-2.07 0-2.86zM5.41 20L4 18.59l7.72-7.72 1.47 1.35L5.41 20z\"/>\n",
              "  </svg>\n",
              "      </button>\n",
              "      \n",
              "  <style>\n",
              "    .colab-df-container {\n",
              "      display:flex;\n",
              "      flex-wrap:wrap;\n",
              "      gap: 12px;\n",
              "    }\n",
              "\n",
              "    .colab-df-convert {\n",
              "      background-color: #E8F0FE;\n",
              "      border: none;\n",
              "      border-radius: 50%;\n",
              "      cursor: pointer;\n",
              "      display: none;\n",
              "      fill: #1967D2;\n",
              "      height: 32px;\n",
              "      padding: 0 0 0 0;\n",
              "      width: 32px;\n",
              "    }\n",
              "\n",
              "    .colab-df-convert:hover {\n",
              "      background-color: #E2EBFA;\n",
              "      box-shadow: 0px 1px 2px rgba(60, 64, 67, 0.3), 0px 1px 3px 1px rgba(60, 64, 67, 0.15);\n",
              "      fill: #174EA6;\n",
              "    }\n",
              "\n",
              "    [theme=dark] .colab-df-convert {\n",
              "      background-color: #3B4455;\n",
              "      fill: #D2E3FC;\n",
              "    }\n",
              "\n",
              "    [theme=dark] .colab-df-convert:hover {\n",
              "      background-color: #434B5C;\n",
              "      box-shadow: 0px 1px 3px 1px rgba(0, 0, 0, 0.15);\n",
              "      filter: drop-shadow(0px 1px 2px rgba(0, 0, 0, 0.3));\n",
              "      fill: #FFFFFF;\n",
              "    }\n",
              "  </style>\n",
              "\n",
              "      <script>\n",
              "        const buttonEl =\n",
              "          document.querySelector('#df-e425f18c-2b2b-48ce-bc3c-bacec16e8469 button.colab-df-convert');\n",
              "        buttonEl.style.display =\n",
              "          google.colab.kernel.accessAllowed ? 'block' : 'none';\n",
              "\n",
              "        async function convertToInteractive(key) {\n",
              "          const element = document.querySelector('#df-e425f18c-2b2b-48ce-bc3c-bacec16e8469');\n",
              "          const dataTable =\n",
              "            await google.colab.kernel.invokeFunction('convertToInteractive',\n",
              "                                                     [key], {});\n",
              "          if (!dataTable) return;\n",
              "\n",
              "          const docLinkHtml = 'Like what you see? Visit the ' +\n",
              "            '<a target=\"_blank\" href=https://colab.research.google.com/notebooks/data_table.ipynb>data table notebook</a>'\n",
              "            + ' to learn more about interactive tables.';\n",
              "          element.innerHTML = '';\n",
              "          dataTable['output_type'] = 'display_data';\n",
              "          await google.colab.output.renderOutput(dataTable, element);\n",
              "          const docLink = document.createElement('div');\n",
              "          docLink.innerHTML = docLinkHtml;\n",
              "          element.appendChild(docLink);\n",
              "        }\n",
              "      </script>\n",
              "    </div>\n",
              "  </div>\n",
              "  "
            ],
            "text/plain": [
              "          Name  Age                                            Photo  \\\n",
              "0   D. Murillo   23  https://cdn.sofifa.org/48/18/players/214081.png   \n",
              "1     D. Rusov   24  https://cdn.sofifa.org/48/18/players/227654.png   \n",
              "2      D. Hyam   21  https://cdn.sofifa.org/48/18/players/221281.png   \n",
              "3  R. Petretta   20  https://cdn.sofifa.org/48/18/players/237642.png   \n",
              "4   V. Le Goff   27  https://cdn.sofifa.org/48/18/players/193148.png   \n",
              "\n",
              "  Nationality                                 Flag  Overall  Potential  \\\n",
              "0    Colombia  https://cdn.sofifa.org/flags/56.png       64         70   \n",
              "1    Slovakia  https://cdn.sofifa.org/flags/43.png       64         66   \n",
              "2    Scotland  https://cdn.sofifa.org/flags/42.png       60         72   \n",
              "3       Italy  https://cdn.sofifa.org/flags/27.png       60         76   \n",
              "4      France  https://cdn.sofifa.org/flags/18.png       73         74   \n",
              "\n",
              "                      Club                                      Club Logo  \\\n",
              "0  CPD Junior Barranquilla  https://cdn.sofifa.org/24/18/teams/101101.png   \n",
              "1            Piast Gliwice  https://cdn.sofifa.org/24/18/teams/111086.png   \n",
              "2            Coventry City    https://cdn.sofifa.org/24/18/teams/1800.png   \n",
              "3                 FC Basel     https://cdn.sofifa.org/24/18/teams/896.png   \n",
              "4               FC Lorient     https://cdn.sofifa.org/24/18/teams/217.png   \n",
              "\n",
              "   Value  ...   RWB    ST  Value Unit  Value (M)  Wage Unit  Wage (M)  \\\n",
              "0  0.525  ...  64.0  53.0           K      0.525          K     0.001   \n",
              "1  0.400  ...   0.0   0.0           K      0.400          K     0.002   \n",
              "2  0.325  ...  51.0  41.0           K      0.325          K     0.002   \n",
              "3  0.400  ...  60.0  49.0           K      0.400          K     0.004   \n",
              "4  3.700  ...  73.0  63.0           M      3.700          K     0.008   \n",
              "\n",
              "   Position  Nationality_cat  Club_cat  Position_cat  \n",
              "0        RB             30.0     127.0            10  \n",
              "1        GK            133.0     442.0             5  \n",
              "2        CB            129.0     170.0             1  \n",
              "3        LB             77.0     221.0             6  \n",
              "4        LB             54.0     232.0             6  \n",
              "\n",
              "[5 rows x 82 columns]"
            ]
          },
          "execution_count": 12,
          "metadata": {},
          "output_type": "execute_result"
        }
      ],
      "source": [
        "dataset, categorical_features_encoder, label_encoder = execute_data_preprocessing(dataset)\n",
        "dataset.head()"
      ]
    },
    {
      "cell_type": "code",
      "execution_count": null,
      "metadata": {
        "colab": {
          "base_uri": "https://localhost:8080/"
        },
        "id": "g0vsNhUFBAbM",
        "outputId": "338ae760-547e-48f3-e3f9-f5a011ea0b89"
      },
      "outputs": [
        {
          "data": {
            "text/plain": [
              "array(['RB', 'GK', 'CB', 'LB', 'CM', 'LM', 'LWB', 'CAM', 'ST', 'RW', 'RM',\n",
              "       'RWB', 'CDM', 'LW', 'CF'], dtype=object)"
            ]
          },
          "execution_count": 13,
          "metadata": {},
          "output_type": "execute_result"
        }
      ],
      "source": [
        "#Conferindo todas as posições\n",
        "dataset['Position'].unique()"
      ]
    },
    {
      "cell_type": "code",
      "execution_count": null,
      "metadata": {
        "id": "OnyhSMztB7zP"
      },
      "outputs": [],
      "source": [
        "def plot_histogram(data):\n",
        "  fig, ax = plt.subplots()\n",
        "\n",
        "  N, bins, patches = ax.hist(data, edgecolor='black', linewidth=1)\n",
        "  \n",
        "  # Random facecolor for each bar\n",
        "  for i in range(len(N)):\n",
        "    patches[i].set_facecolor(\"#\" + ''.join(random.choices(\"ABCDEF\" + string.digits, k=6)))\n",
        "\n",
        "  # Display the plot\n",
        "  plt.show()"
      ]
    },
    {
      "cell_type": "code",
      "execution_count": null,
      "metadata": {
        "colab": {
          "base_uri": "https://localhost:8080/",
          "height": 265
        },
        "id": "9nc3J6m-BHPU",
        "outputId": "3864bd2e-c063-46e6-b194-b57bf5d6e4c3"
      },
      "outputs": [
        {
          "data": {
            "image/png": "[encoded data removed]",
            "text/plain": [
              "<Figure size 432x288 with 1 Axes>"
            ]
          },
          "metadata": {
            "needs_background": "light"
          },
          "output_type": "display_data"
        }
      ],
      "source": [
        "#plotando distribuição das posições dos jogadores\n",
        "plot_histogram(dataset['Position'])"
      ]
    },
    {
      "cell_type": "code",
      "execution_count": null,
      "metadata": {
        "id": "mSf34WeXyZD9"
      },
      "outputs": [],
      "source": [
        "def get_quantity_in_class(dataset, reference_column):\n",
        "  classes = list(dataset[reference_column].unique())\n",
        "  quantities = []\n",
        "\n",
        "  for c in classes:\n",
        "    quantities.append(len(dataset[dataset[reference_column] == c]))\n",
        "  \n",
        "  return classes, quantities"
      ]
    },
    {
      "cell_type": "code",
      "execution_count": null,
      "metadata": {
        "colab": {
          "base_uri": "https://localhost:8080/",
          "height": 248
        },
        "id": "WgRZIXkQ5wiM",
        "outputId": "21ca3bb6-4b27-4508-9d87-bdc673332a3f"
      },
      "outputs": [
        {
          "data": {
            "image/png": "[encoded data removed]",
            "text/plain": [
              "<Figure size 432x288 with 1 Axes>"
            ]
          },
          "metadata": {},
          "output_type": "display_data"
        }
      ],
      "source": [
        "#Plotando piechart\n",
        "#https://www.w3schools.com/python/matplotlib_pie_charts.asp\n",
        "classes, quantities = get_quantity_in_class(dataset, 'Position')\n",
        "\n",
        "plt.pie(quantities, labels = classes)\n",
        "plt.show()"
      ]
    },
    {
      "cell_type": "code",
      "execution_count": null,
      "metadata": {
        "colab": {
          "base_uri": "https://localhost:8080/",
          "height": 386
        },
        "id": "1XsI4bgpBKfD",
        "outputId": "f363a9a0-cd09-42c2-debb-5cb081524852"
      },
      "outputs": [
        {
          "data": {
            "text/plain": [
              "<seaborn.axisgrid.FacetGrid at 0x7f74414fb490>"
            ]
          },
          "execution_count": 18,
          "metadata": {},
          "output_type": "execute_result"
        },
        {
          "data": {
            "image/png": "[encoded data removed]",
            "text/plain": [
              "<Figure size 412.375x360 with 1 Axes>"
            ]
          },
          "metadata": {
            "needs_background": "light"
          },
          "output_type": "display_data"
        }
      ],
      "source": [
        "#https://www.kaggle.com/code/crklausenburg/multivariate\n",
        "sns.lmplot(x='Value', y='Potential', hue='Position', \n",
        "           data=dataset.loc[dataset['Position'].isin(['ST', 'RW', 'LW', 'GK'])], \n",
        "           fit_reg=False)"
      ]
    },
    {
      "cell_type": "code",
      "execution_count": null,
      "metadata": {
        "id": "-XGP1zuNHRPB"
      },
      "outputs": [],
      "source": [
        "#definindo colunas a serem utilizadas na preparação dos modelos\n",
        "model_columns = [\n",
        "    'Age',\n",
        "    'Overall',\n",
        "    'Potential',\n",
        "    'Special',\n",
        "    'Acceleration',\n",
        "    'Aggression',\n",
        "    'Agility',\n",
        "    'Balance',\n",
        "    'Ball control',\n",
        "    'Composure',\n",
        "    'Crossing',\n",
        "    'Curve',\n",
        "    'Dribbling',\n",
        "    'Finishing',\n",
        "    'Free kick accuracy',\n",
        "    'GK diving',\n",
        "    'GK handling',\n",
        "    'GK kicking',\n",
        "    'GK positioning',\n",
        "    'GK reflexes',\n",
        "    'Heading accuracy',\n",
        "    'Interceptions',\n",
        "    'Jumping',\n",
        "    'Long passing',\n",
        "    'Long shots',\n",
        "    'Marking',\n",
        "    'Penalties',\n",
        "    'Positioning',\n",
        "    'Reactions',\n",
        "    'Short passing',\n",
        "    'Shot power',\n",
        "    'Sliding tackle',\n",
        "    'Sprint speed',\n",
        "    'Stamina',\n",
        "    'Standing tackle',\n",
        "    'Strength',\n",
        "    'Vision',\n",
        "    'Volleys',\n",
        "    # 'CAM',\n",
        "    # 'CB',\n",
        "    # 'CDM',\n",
        "    # 'CF',\n",
        "    # 'CM',\n",
        "    # 'ID',\n",
        "    # 'LAM',\n",
        "    # 'LB',\n",
        "    # 'LCB',\n",
        "    # 'LCM',\n",
        "    # 'LDM',\n",
        "    # 'LF',\n",
        "    # 'LM',\n",
        "    # 'LS',\n",
        "    # 'LW',\n",
        "    # 'LWB',\n",
        "    # 'RAM',\n",
        "    # 'RB',\n",
        "    # 'RCB',\n",
        "    # 'RCM',\n",
        "    # 'RDM',\n",
        "    # 'RF',\n",
        "    # 'RM',\n",
        "    # 'RS',\n",
        "    # 'RW',\n",
        "    # 'RWB',\n",
        "    # 'ST',\n",
        "    'Value (M)',\n",
        "    'Wage (M)',\n",
        "    'Nationality_cat',\n",
        "    'Club_cat'\n",
        "]\n",
        "target_column = 'Position_cat'"
      ]
    },
    {
      "cell_type": "code",
      "execution_count": null,
      "metadata": {
        "id": "nQyuE2u_JVOL"
      },
      "outputs": [],
      "source": [
        "X = dataset[model_columns]\n",
        "y = dataset[target_column]"
      ]
    },
    {
      "cell_type": "code",
      "execution_count": null,
      "metadata": {
        "id": "h28fQ_mtMA15"
      },
      "outputs": [],
      "source": [
        "X_train, X_test, y_train, y_test = train_test_split(X, y, train_size=TRAIN_SIZE)"
      ]
    },
    {
      "cell_type": "code",
      "execution_count": null,
      "metadata": {
        "colab": {
          "base_uri": "https://localhost:8080/"
        },
        "id": "7bfHTbxnKPZm",
        "outputId": "a5b7a886-5aee-4c7c-a6c8-6e02e94b8dc3"
      },
      "outputs": [
        {
          "name": "stderr",
          "output_type": "stream",
          "text": [
            "/usr/local/lib/python3.7/dist-packages/sklearn/linear_model/_logistic.py:818: ConvergenceWarning: lbfgs failed to converge (status=1):\n",
            "STOP: TOTAL NO. of ITERATIONS REACHED LIMIT.\n",
            "\n",
            "Increase the number of iterations (max_iter) or scale the data as shown in:\n",
            "    https://scikit-learn.org/stable/modules/preprocessing.html\n",
            "Please also refer to the documentation for alternative solver options:\n",
            "    https://scikit-learn.org/stable/modules/linear_model.html#logistic-regression\n",
            "  extra_warning_msg=_LOGISTIC_SOLVER_CONVERGENCE_MSG,\n"
          ]
        }
      ],
      "source": [
        "#Hora de utilizar os modelos\n",
        "\n",
        "#Regressão logística: demorando muito para convergir, talvez deva normalizar ou preparar melhor os dados\n",
        "#https://scikit-learn.org/stable/modules/generated/sklearn.linear_model.LogisticRegression.html#sklearn.linear_model.LogisticRegression\n",
        "\n",
        "logistic_regressor = LogisticRegression().fit(X_train, y_train)"
      ]
    },
    {
      "cell_type": "code",
      "execution_count": null,
      "metadata": {
        "colab": {
          "base_uri": "https://localhost:8080/",
          "height": 411
        },
        "id": "o7wkUSmdPTrA",
        "outputId": "47fb04be-6682-4eec-b351-7563cc47aa48"
      },
      "outputs": [
        {
          "name": "stderr",
          "output_type": "stream",
          "text": [
            "/usr/local/lib/python3.7/dist-packages/sklearn/metrics/_classification.py:1318: UndefinedMetricWarning: Precision and F-score are ill-defined and being set to 0.0 in labels with no predicted samples. Use `zero_division` parameter to control this behavior.\n",
            "  _warn_prf(average, modifier, msg_start, len(result))\n",
            "/usr/local/lib/python3.7/dist-packages/sklearn/metrics/_classification.py:1318: UndefinedMetricWarning: Precision and F-score are ill-defined and being set to 0.0 in labels with no predicted samples. Use `zero_division` parameter to control this behavior.\n",
            "  _warn_prf(average, modifier, msg_start, len(result))\n",
            "/usr/local/lib/python3.7/dist-packages/sklearn/metrics/_classification.py:1318: UndefinedMetricWarning: Precision and F-score are ill-defined and being set to 0.0 in labels with no predicted samples. Use `zero_division` parameter to control this behavior.\n",
            "  _warn_prf(average, modifier, msg_start, len(result))\n"
          ]
        },
        {
          "data": {
            "text/plain": [
              "<matplotlib.axes._subplots.AxesSubplot at 0x7f744160a1d0>"
            ]
          },
          "execution_count": 23,
          "metadata": {},
          "output_type": "execute_result"
        },
        {
          "data": {
            "image/png": "[encoded data removed]",
            "text/plain": [
              "<Figure size 432x288 with 2 Axes>"
            ]
          },
          "metadata": {
            "needs_background": "light"
          },
          "output_type": "display_data"
        }
      ],
      "source": [
        "y_pred_logreg = logistic_regressor.predict(X_test)\n",
        "\n",
        "clf_report_logreg = classification_report(y_test, y_pred_logreg, target_names= label_encoder.classes_, output_dict=True)\n",
        "\n",
        "sns.heatmap(pd.DataFrame(clf_report_logreg).iloc[:-1, :].T, annot=True)"
      ]
    },
    {
      "cell_type": "code",
      "execution_count": null,
      "metadata": {
        "id": "x0eLukcWIsek"
      },
      "outputs": [],
      "source": [
        "#Para o modelo ficar balanceado, preciso garantir que cada class tenha um número mínimo de instâncias no conjunto de treinamento e teste\n",
        "#https://towardsdatascience.com/3-things-you-need-to-know-before-you-train-test-split-869dfabb7e50"
      ]
    },
    {
      "cell_type": "code",
      "execution_count": null,
      "metadata": {
        "colab": {
          "base_uri": "https://localhost:8080/",
          "height": 282
        },
        "id": "zihU4BvnEgJf",
        "outputId": "fa3462fb-4da8-449c-bd39-bc27d91cc74f"
      },
      "outputs": [
        {
          "data": {
            "text/plain": [
              "<matplotlib.axes._subplots.AxesSubplot at 0x7f7441515f90>"
            ]
          },
          "execution_count": 25,
          "metadata": {},
          "output_type": "execute_result"
        },
        {
          "data": {
            "image/png": "[encoded data removed]",
            "text/plain": [
              "<Figure size 432x288 with 2 Axes>"
            ]
          },
          "metadata": {
            "needs_background": "light"
          },
          "output_type": "display_data"
        }
      ],
      "source": [
        "cf_matrix_logreg = confusion_matrix(y_test, y_pred_logreg)\n",
        "sns.heatmap(cf_matrix_logreg, annot=True)"
      ]
    },
    {
      "cell_type": "code",
      "execution_count": null,
      "metadata": {
        "id": "OwOz4HAjU0sP"
      },
      "outputs": [],
      "source": [
        "#Naive Bayes\n",
        "#https://scikit-learn.org/stable/modules/naive_bayes.html\n",
        "gnb = GaussianNB()\n",
        "gnb.fit(X_train, y_train)\n",
        "y_pred_gnb = gnb.predict(X_test)"
      ]
    },
    {
      "cell_type": "code",
      "execution_count": null,
      "metadata": {
        "colab": {
          "base_uri": "https://localhost:8080/",
          "height": 286
        },
        "id": "DdMDtT3KV9jz",
        "outputId": "0e5b527f-c3b5-4bd0-ab00-239a2e905b04"
      },
      "outputs": [
        {
          "data": {
            "text/plain": [
              "<matplotlib.axes._subplots.AxesSubplot at 0x7f744143fe90>"
            ]
          },
          "execution_count": 27,
          "metadata": {},
          "output_type": "execute_result"
        },
        {
          "data": {
            "image/png": "[encoded data removed]",
            "text/plain": [
              "<Figure size 432x288 with 2 Axes>"
            ]
          },
          "metadata": {
            "needs_background": "light"
          },
          "output_type": "display_data"
        }
      ],
      "source": [
        "clf_report_gnb = classification_report(y_test, y_pred_gnb, target_names= label_encoder.classes_, output_dict=True)\n",
        "\n",
        "sns.heatmap(pd.DataFrame(clf_report_gnb).iloc[:-1, :].T, annot=True)"
      ]
    },
    {
      "cell_type": "code",
      "execution_count": null,
      "metadata": {
        "colab": {
          "base_uri": "https://localhost:8080/",
          "height": 282
        },
        "id": "30V6UnGfWBqh",
        "outputId": "cbe5f200-02fa-4e98-c052-17b3daa6b4bf"
      },
      "outputs": [
        {
          "data": {
            "text/plain": [
              "<matplotlib.axes._subplots.AxesSubplot at 0x7f74417b0950>"
            ]
          },
          "execution_count": 28,
          "metadata": {},
          "output_type": "execute_result"
        },
        {
          "data": {
            "image/png": "[encoded data removed]",
            "text/plain": [
              "<Figure size 432x288 with 2 Axes>"
            ]
          },
          "metadata": {
            "needs_background": "light"
          },
          "output_type": "display_data"
        }
      ],
      "source": [
        "cf_matrix_gnb = confusion_matrix(y_test, y_pred_gnb)\n",
        "sns.heatmap(cf_matrix_gnb, annot=True)"
      ]
    },
    {
      "cell_type": "code",
      "execution_count": null,
      "metadata": {
        "id": "5rPIsuo0WSUC"
      },
      "outputs": [],
      "source": [
        "#SVC\n",
        "svc = SVC()\n",
        "svc.fit(X_train, y_train)\n",
        "y_pred_svc = svc.predict(X_test)"
      ]
    },
    {
      "cell_type": "code",
      "execution_count": null,
      "metadata": {
        "colab": {
          "base_uri": "https://localhost:8080/",
          "height": 411
        },
        "id": "nSxXXNB0X_xS",
        "outputId": "8d5b3016-7c01-49a1-b0c7-53b27631a938"
      },
      "outputs": [
        {
          "name": "stderr",
          "output_type": "stream",
          "text": [
            "/usr/local/lib/python3.7/dist-packages/sklearn/metrics/_classification.py:1318: UndefinedMetricWarning: Precision and F-score are ill-defined and being set to 0.0 in labels with no predicted samples. Use `zero_division` parameter to control this behavior.\n",
            "  _warn_prf(average, modifier, msg_start, len(result))\n",
            "/usr/local/lib/python3.7/dist-packages/sklearn/metrics/_classification.py:1318: UndefinedMetricWarning: Precision and F-score are ill-defined and being set to 0.0 in labels with no predicted samples. Use `zero_division` parameter to control this behavior.\n",
            "  _warn_prf(average, modifier, msg_start, len(result))\n",
            "/usr/local/lib/python3.7/dist-packages/sklearn/metrics/_classification.py:1318: UndefinedMetricWarning: Precision and F-score are ill-defined and being set to 0.0 in labels with no predicted samples. Use `zero_division` parameter to control this behavior.\n",
            "  _warn_prf(average, modifier, msg_start, len(result))\n"
          ]
        },
        {
          "data": {
            "text/plain": [
              "<matplotlib.axes._subplots.AxesSubplot at 0x7f743e880f90>"
            ]
          },
          "execution_count": 30,
          "metadata": {},
          "output_type": "execute_result"
        },
        {
          "data": {
            "image/png": "[encoded data removed]",
            "text/plain": [
              "<Figure size 432x288 with 2 Axes>"
            ]
          },
          "metadata": {
            "needs_background": "light"
          },
          "output_type": "display_data"
        }
      ],
      "source": [
        "clf_report_svc = classification_report(y_test, y_pred_svc, target_names= label_encoder.classes_, output_dict=True)\n",
        "\n",
        "sns.heatmap(pd.DataFrame(clf_report_svc).iloc[:-1, :].T, annot=True)"
      ]
    },
    {
      "cell_type": "code",
      "execution_count": null,
      "metadata": {
        "colab": {
          "base_uri": "https://localhost:8080/",
          "height": 283
        },
        "id": "_K5erJbmYTrI",
        "outputId": "b0f99982-135b-4488-fb18-78e35546e3ce"
      },
      "outputs": [
        {
          "data": {
            "text/plain": [
              "<matplotlib.axes._subplots.AxesSubplot at 0x7f743e61fa90>"
            ]
          },
          "execution_count": 31,
          "metadata": {},
          "output_type": "execute_result"
        },
        {
          "data": {
            "image/png": "[encoded data removed]",
            "text/plain": [
              "<Figure size 432x288 with 2 Axes>"
            ]
          },
          "metadata": {
            "needs_background": "light"
          },
          "output_type": "display_data"
        }
      ],
      "source": [
        "cf_matrix_svc = confusion_matrix(y_test, y_pred_svc)\n",
        "sns.heatmap(cf_matrix_svc, annot=True)"
      ]
    },
    {
      "cell_type": "code",
      "execution_count": null,
      "metadata": {
        "colab": {
          "base_uri": "https://localhost:8080/",
          "height": 438
        },
        "id": "mEGx1u046ujB",
        "outputId": "161e7058-48ab-4030-cff0-e55237135671"
      },
      "outputs": [
        {
          "name": "stderr",
          "output_type": "stream",
          "text": [
            "/usr/local/lib/python3.7/dist-packages/sdv/lite/tabular.py:51: UserWarning: No metadata provided. Metadata will be automatically detected from your data. This process may not be accurate. We recommend writing metadata to ensure correct data handling.\n",
            "  warnings.warn('No metadata provided. Metadata will be automatically '\n",
            "Sampling conditions: 100%|██████████| 22594/22594 [00:09<00:00, 2384.61it/s]\n"
          ]
        },
        {
          "data": {
            "text/html": [
              "\n",
              "  <div id=\"df-72163e6b-e7a7-4361-bf4e-972ba5d467ca\">\n",
              "    <div class=\"colab-df-container\">\n",
              "      <div>\n",
              "<style scoped>\n",
              "    .dataframe tbody tr th:only-of-type {\n",
              "        vertical-align: middle;\n",
              "    }\n",
              "\n",
              "    .dataframe tbody tr th {\n",
              "        vertical-align: top;\n",
              "    }\n",
              "\n",
              "    .dataframe thead th {\n",
              "        text-align: right;\n",
              "    }\n",
              "</style>\n",
              "<table border=\"1\" class=\"dataframe\">\n",
              "  <thead>\n",
              "    <tr style=\"text-align: right;\">\n",
              "      <th></th>\n",
              "      <th>Name</th>\n",
              "      <th>Age</th>\n",
              "      <th>Photo</th>\n",
              "      <th>Nationality</th>\n",
              "      <th>Flag</th>\n",
              "      <th>Overall</th>\n",
              "      <th>Potential</th>\n",
              "      <th>Club</th>\n",
              "      <th>Club Logo</th>\n",
              "      <th>Value</th>\n",
              "      <th>...</th>\n",
              "      <th>RWB</th>\n",
              "      <th>ST</th>\n",
              "      <th>Value Unit</th>\n",
              "      <th>Value (M)</th>\n",
              "      <th>Wage Unit</th>\n",
              "      <th>Wage (M)</th>\n",
              "      <th>Position</th>\n",
              "      <th>Nationality_cat</th>\n",
              "      <th>Club_cat</th>\n",
              "      <th>Position_cat</th>\n",
              "    </tr>\n",
              "  </thead>\n",
              "  <tbody>\n",
              "    <tr>\n",
              "      <th>0</th>\n",
              "      <td>L. Marković</td>\n",
              "      <td>23</td>\n",
              "      <td>https://cdn.sofifa.org/48/18/players/187456.png</td>\n",
              "      <td>France</td>\n",
              "      <td>https://cdn.sofifa.org/flags/18.png</td>\n",
              "      <td>65</td>\n",
              "      <td>71</td>\n",
              "      <td>FC Porto</td>\n",
              "      <td>https://cdn.sofifa.org/24/18/teams/101146.png</td>\n",
              "      <td>0.000000</td>\n",
              "      <td>...</td>\n",
              "      <td>19.329309</td>\n",
              "      <td>23.031622</td>\n",
              "      <td>K</td>\n",
              "      <td>0.000000</td>\n",
              "      <td>K</td>\n",
              "      <td>0.000000</td>\n",
              "      <td>RB</td>\n",
              "      <td>80.379979</td>\n",
              "      <td>184.464148</td>\n",
              "      <td>7</td>\n",
              "    </tr>\n",
              "    <tr>\n",
              "      <th>1</th>\n",
              "      <td>T. Eaves</td>\n",
              "      <td>25</td>\n",
              "      <td>https://cdn.sofifa.org/48/18/players/237939.png</td>\n",
              "      <td>Colombia</td>\n",
              "      <td>https://cdn.sofifa.org/flags/56.png</td>\n",
              "      <td>70</td>\n",
              "      <td>75</td>\n",
              "      <td>Finn Harps</td>\n",
              "      <td>https://cdn.sofifa.org/24/18/teams/111379.png</td>\n",
              "      <td>10.341792</td>\n",
              "      <td>...</td>\n",
              "      <td>70.493215</td>\n",
              "      <td>78.068117</td>\n",
              "      <td>K</td>\n",
              "      <td>10.342137</td>\n",
              "      <td>K</td>\n",
              "      <td>0.035962</td>\n",
              "      <td>RB</td>\n",
              "      <td>86.742848</td>\n",
              "      <td>458.493816</td>\n",
              "      <td>14</td>\n",
              "    </tr>\n",
              "    <tr>\n",
              "      <th>2</th>\n",
              "      <td>G. Montiel</td>\n",
              "      <td>22</td>\n",
              "      <td>https://cdn.sofifa.org/48/18/players/241070.png</td>\n",
              "      <td>Turkey</td>\n",
              "      <td>https://cdn.sofifa.org/flags/48.png</td>\n",
              "      <td>64</td>\n",
              "      <td>75</td>\n",
              "      <td>Ettifaq FC</td>\n",
              "      <td>https://cdn.sofifa.org/24/18/teams/94.png</td>\n",
              "      <td>1.951091</td>\n",
              "      <td>...</td>\n",
              "      <td>78.957138</td>\n",
              "      <td>79.295299</td>\n",
              "      <td>K</td>\n",
              "      <td>1.951562</td>\n",
              "      <td>K</td>\n",
              "      <td>0.016551</td>\n",
              "      <td>RB</td>\n",
              "      <td>50.060101</td>\n",
              "      <td>187.679231</td>\n",
              "      <td>8</td>\n",
              "    </tr>\n",
              "    <tr>\n",
              "      <th>3</th>\n",
              "      <td>L. Escorcia</td>\n",
              "      <td>22</td>\n",
              "      <td>https://cdn.sofifa.org/48/18/players/160161.png</td>\n",
              "      <td>Italy</td>\n",
              "      <td>https://cdn.sofifa.org/flags/27.png</td>\n",
              "      <td>68</td>\n",
              "      <td>74</td>\n",
              "      <td>LOSC Lille</td>\n",
              "      <td>https://cdn.sofifa.org/24/18/teams/436.png</td>\n",
              "      <td>4.899683</td>\n",
              "      <td>...</td>\n",
              "      <td>80.681080</td>\n",
              "      <td>83.606237</td>\n",
              "      <td>M</td>\n",
              "      <td>4.904709</td>\n",
              "      <td>K</td>\n",
              "      <td>0.023986</td>\n",
              "      <td>RB</td>\n",
              "      <td>106.375855</td>\n",
              "      <td>426.938077</td>\n",
              "      <td>10</td>\n",
              "    </tr>\n",
              "    <tr>\n",
              "      <th>4</th>\n",
              "      <td>N. Barella</td>\n",
              "      <td>32</td>\n",
              "      <td>https://cdn.sofifa.org/48/18/players/194082.png</td>\n",
              "      <td>Denmark</td>\n",
              "      <td>https://cdn.sofifa.org/flags/13.png</td>\n",
              "      <td>76</td>\n",
              "      <td>73</td>\n",
              "      <td>Portsmouth</td>\n",
              "      <td>https://cdn.sofifa.org/24/18/teams/254.png</td>\n",
              "      <td>7.165736</td>\n",
              "      <td>...</td>\n",
              "      <td>43.879758</td>\n",
              "      <td>44.412587</td>\n",
              "      <td>M</td>\n",
              "      <td>7.162417</td>\n",
              "      <td>K</td>\n",
              "      <td>0.032751</td>\n",
              "      <td>RB</td>\n",
              "      <td>123.222128</td>\n",
              "      <td>452.898575</td>\n",
              "      <td>0</td>\n",
              "    </tr>\n",
              "  </tbody>\n",
              "</table>\n",
              "<p>5 rows × 82 columns</p>\n",
              "</div>\n",
              "      <button class=\"colab-df-convert\" onclick=\"convertToInteractive('df-72163e6b-e7a7-4361-bf4e-972ba5d467ca')\"\n",
              "              title=\"Convert this dataframe to an interactive table.\"\n",
              "              style=\"display:none;\">\n",
              "        \n",
              "  <svg xmlns=\"http://www.w3.org/2000/svg\" height=\"24px\"viewBox=\"0 0 24 24\"\n",
              "       width=\"24px\">\n",
              "    <path d=\"M0 0h24v24H0V0z\" fill=\"none\"/>\n",
              "    <path d=\"M18.56 5.44l.94 2.06.94-2.06 2.06-.94-2.06-.94-.94-2.06-.94 2.06-2.06.94zm-11 1L8.5 8.5l.94-2.06 2.06-.94-2.06-.94L8.5 2.5l-.94 2.06-2.06.94zm10 10l.94 2.06.94-2.06 2.06-.94-2.06-.94-.94-2.06-.94 2.06-2.06.94z\"/><path d=\"M17.41 7.96l-1.37-1.37c-.4-.4-.92-.59-1.43-.59-.52 0-1.04.2-1.43.59L10.3 9.45l-7.72 7.72c-.78.78-.78 2.05 0 2.83L4 21.41c.39.39.9.59 1.41.59.51 0 1.02-.2 1.41-.59l7.78-7.78 2.81-2.81c.8-.78.8-2.07 0-2.86zM5.41 20L4 18.59l7.72-7.72 1.47 1.35L5.41 20z\"/>\n",
              "  </svg>\n",
              "      </button>\n",
              "      \n",
              "  <style>\n",
              "    .colab-df-container {\n",
              "      display:flex;\n",
              "      flex-wrap:wrap;\n",
              "      gap: 12px;\n",
              "    }\n",
              "\n",
              "    .colab-df-convert {\n",
              "      background-color: #E8F0FE;\n",
              "      border: none;\n",
              "      border-radius: 50%;\n",
              "      cursor: pointer;\n",
              "      display: none;\n",
              "      fill: #1967D2;\n",
              "      height: 32px;\n",
              "      padding: 0 0 0 0;\n",
              "      width: 32px;\n",
              "    }\n",
              "\n",
              "    .colab-df-convert:hover {\n",
              "      background-color: #E2EBFA;\n",
              "      box-shadow: 0px 1px 2px rgba(60, 64, 67, 0.3), 0px 1px 3px 1px rgba(60, 64, 67, 0.15);\n",
              "      fill: #174EA6;\n",
              "    }\n",
              "\n",
              "    [theme=dark] .colab-df-convert {\n",
              "      background-color: #3B4455;\n",
              "      fill: #D2E3FC;\n",
              "    }\n",
              "\n",
              "    [theme=dark] .colab-df-convert:hover {\n",
              "      background-color: #434B5C;\n",
              "      box-shadow: 0px 1px 3px 1px rgba(0, 0, 0, 0.15);\n",
              "      filter: drop-shadow(0px 1px 2px rgba(0, 0, 0, 0.3));\n",
              "      fill: #FFFFFF;\n",
              "    }\n",
              "  </style>\n",
              "\n",
              "      <script>\n",
              "        const buttonEl =\n",
              "          document.querySelector('#df-72163e6b-e7a7-4361-bf4e-972ba5d467ca button.colab-df-convert');\n",
              "        buttonEl.style.display =\n",
              "          google.colab.kernel.accessAllowed ? 'block' : 'none';\n",
              "\n",
              "        async function convertToInteractive(key) {\n",
              "          const element = document.querySelector('#df-72163e6b-e7a7-4361-bf4e-972ba5d467ca');\n",
              "          const dataTable =\n",
              "            await google.colab.kernel.invokeFunction('convertToInteractive',\n",
              "                                                     [key], {});\n",
              "          if (!dataTable) return;\n",
              "\n",
              "          const docLinkHtml = 'Like what you see? Visit the ' +\n",
              "            '<a target=\"_blank\" href=https://colab.research.google.com/notebooks/data_table.ipynb>data table notebook</a>'\n",
              "            + ' to learn more about interactive tables.';\n",
              "          element.innerHTML = '';\n",
              "          dataTable['output_type'] = 'display_data';\n",
              "          await google.colab.output.renderOutput(dataTable, element);\n",
              "          const docLink = document.createElement('div');\n",
              "          docLink.innerHTML = docLinkHtml;\n",
              "          element.appendChild(docLink);\n",
              "        }\n",
              "      </script>\n",
              "    </div>\n",
              "  </div>\n",
              "  "
            ],
            "text/plain": [
              "          Name  Age                                            Photo  \\\n",
              "0  L. Marković   23  https://cdn.sofifa.org/48/18/players/187456.png   \n",
              "1     T. Eaves   25  https://cdn.sofifa.org/48/18/players/237939.png   \n",
              "2   G. Montiel   22  https://cdn.sofifa.org/48/18/players/241070.png   \n",
              "3  L. Escorcia   22  https://cdn.sofifa.org/48/18/players/160161.png   \n",
              "4   N. Barella   32  https://cdn.sofifa.org/48/18/players/194082.png   \n",
              "\n",
              "  Nationality                                 Flag  Overall  Potential  \\\n",
              "0      France  https://cdn.sofifa.org/flags/18.png       65         71   \n",
              "1    Colombia  https://cdn.sofifa.org/flags/56.png       70         75   \n",
              "2      Turkey  https://cdn.sofifa.org/flags/48.png       64         75   \n",
              "3       Italy  https://cdn.sofifa.org/flags/27.png       68         74   \n",
              "4     Denmark  https://cdn.sofifa.org/flags/13.png       76         73   \n",
              "\n",
              "         Club                                      Club Logo      Value  ...  \\\n",
              "0    FC Porto  https://cdn.sofifa.org/24/18/teams/101146.png   0.000000  ...   \n",
              "1  Finn Harps  https://cdn.sofifa.org/24/18/teams/111379.png  10.341792  ...   \n",
              "2  Ettifaq FC      https://cdn.sofifa.org/24/18/teams/94.png   1.951091  ...   \n",
              "3  LOSC Lille     https://cdn.sofifa.org/24/18/teams/436.png   4.899683  ...   \n",
              "4  Portsmouth     https://cdn.sofifa.org/24/18/teams/254.png   7.165736  ...   \n",
              "\n",
              "         RWB         ST  Value Unit  Value (M)  Wage Unit  Wage (M)  Position  \\\n",
              "0  19.329309  23.031622           K   0.000000          K  0.000000        RB   \n",
              "1  70.493215  78.068117           K  10.342137          K  0.035962        RB   \n",
              "2  78.957138  79.295299           K   1.951562          K  0.016551        RB   \n",
              "3  80.681080  83.606237           M   4.904709          K  0.023986        RB   \n",
              "4  43.879758  44.412587           M   7.162417          K  0.032751        RB   \n",
              "\n",
              "   Nationality_cat    Club_cat  Position_cat  \n",
              "0        80.379979  184.464148             7  \n",
              "1        86.742848  458.493816            14  \n",
              "2        50.060101  187.679231             8  \n",
              "3       106.375855  426.938077            10  \n",
              "4       123.222128  452.898575             0  \n",
              "\n",
              "[5 rows x 82 columns]"
            ]
          },
          "execution_count": 32,
          "metadata": {},
          "output_type": "execute_result"
        }
      ],
      "source": [
        "#Gerar dados sintéticos irá melhorar as métricas dos modelos utilizados?\n",
        "#https://sdv.dev/SDV/user_guides/single_table/tabular_preset.html#tabular-preset\n",
        "\n",
        "positions, quantities = get_quantity_in_class(dataset, 'Position')\n",
        "\n",
        "sampling_conditions = []\n",
        "\n",
        "max_qtt = max(quantities)\n",
        "idx_max_qtt = quantities.index(max_qtt)\n",
        "\n",
        "for i in range(0, len(quantities)):\n",
        "  if(i != idx_max_qtt):\n",
        "    sampling_qtt = max_qtt - quantities[i]\n",
        "    class_data = dataset[dataset['Position'] == positions[i]]\n",
        "\n",
        "    sampling_conditions.append(Condition(column_values={'Position': positions[i]}, num_rows=sampling_qtt))\n",
        "\n",
        "sampling_model = TabularPreset(name='FAST_ML')\n",
        "sampling_model.fit(dataset)\n",
        "\n",
        "synthetic_data = sampling_model.sample_conditions(conditions=sampling_conditions)\n",
        "\n",
        "synthetic_data.head()"
      ]
    },
    {
      "cell_type": "code",
      "execution_count": null,
      "metadata": {
        "colab": {
          "base_uri": "https://localhost:8080/"
        },
        "id": "NHmRE13m2YcL",
        "outputId": "53179feb-1b9e-4841-b1bf-7f3101745b09"
      },
      "outputs": [
        {
          "data": {
            "text/plain": [
              "(22594, 82)"
            ]
          },
          "execution_count": 33,
          "metadata": {},
          "output_type": "execute_result"
        }
      ],
      "source": [
        "synthetic_data.shape"
      ]
    },
    {
      "cell_type": "code",
      "execution_count": null,
      "metadata": {
        "colab": {
          "base_uri": "https://localhost:8080/"
        },
        "id": "JAHgKsod2gDQ",
        "outputId": "3cc77608-c84f-465e-bf82-b9bccea17f4b"
      },
      "outputs": [
        {
          "data": {
            "text/plain": [
              "(40575, 82)"
            ]
          },
          "execution_count": 34,
          "metadata": {},
          "output_type": "execute_result"
        }
      ],
      "source": [
        "dataset = pd.concat([dataset, synthetic_data])\n",
        "dataset.shape"
      ]
    },
    {
      "cell_type": "code",
      "execution_count": null,
      "metadata": {
        "colab": {
          "base_uri": "https://localhost:8080/",
          "height": 248
        },
        "id": "fTPnMDus22aD",
        "outputId": "1dc14e42-9a03-4d69-a7b7-b303e3e37d71"
      },
      "outputs": [
        {
          "data": {
            "image/png": "[encoded data removed]",
            "text/plain": [
              "<Figure size 432x288 with 1 Axes>"
            ]
          },
          "metadata": {},
          "output_type": "display_data"
        }
      ],
      "source": [
        "classes, quantities = get_quantity_in_class(dataset, 'Position')\n",
        "\n",
        "plt.pie(quantities, labels = classes)\n",
        "plt.show()"
      ]
    },
    {
      "cell_type": "code",
      "execution_count": null,
      "metadata": {
        "id": "kVZIVcNU3Eh2"
      },
      "outputs": [],
      "source": [
        "X = dataset[model_columns]\n",
        "y = dataset[target_column]"
      ]
    },
    {
      "cell_type": "code",
      "execution_count": null,
      "metadata": {
        "id": "Niq1s79s3FPj"
      },
      "outputs": [],
      "source": [
        "X_train, X_test, y_train, y_test = train_test_split(X, y, train_size=TRAIN_SIZE)"
      ]
    },
    {
      "cell_type": "code",
      "execution_count": null,
      "metadata": {
        "id": "zzxMsNYL3PY7"
      },
      "outputs": [],
      "source": [
        "logistic_regressor = LogisticRegression(max_iter=1000000).fit(X_train, y_train)"
      ]
    },
    {
      "cell_type": "code",
      "execution_count": null,
      "metadata": {
        "colab": {
          "base_uri": "https://localhost:8080/"
        },
        "id": "ch1-pEJ43Tbb",
        "outputId": "18dedc8d-1ca9-4a64-eeca-da59bfae94b9"
      },
      "outputs": [
        {
          "data": {
            "text/plain": [
              "<matplotlib.axes._subplots.AxesSubplot at 0x7f7441570450>"
            ]
          },
          "execution_count": 39,
          "metadata": {},
          "output_type": "execute_result"
        },
        {
          "data": {
            "image/png": "[encoded data removed]",
            "text/plain": [
              "<Figure size 432x288 with 2 Axes>"
            ]
          },
          "metadata": {
            "needs_background": "light"
          },
          "output_type": "display_data"
        }
      ],
      "source": [
        "y_pred_logreg = logistic_regressor.predict(X_test)\n",
        "\n",
        "clf_report_logreg = classification_report(y_test, y_pred_logreg, target_names= label_encoder.classes_, output_dict=True)\n",
        "\n",
        "sns.heatmap(pd.DataFrame(clf_report_logreg).iloc[:-1, :].T, annot=True)"
      ]
    },
    {
      "cell_type": "code",
      "execution_count": null,
      "metadata": {
        "id": "kV5UTEiGIiA2"
      },
      "outputs": [],
      "source": [
        "#Não deu muito certo\n",
        "#Tenho que encontrar uma maneira de que a mesma distribuição dos dados de treinamento seja a dos dados de teste"
      ]
    },
    {
      "cell_type": "code",
      "execution_count": null,
      "metadata": {
        "colab": {
          "base_uri": "https://localhost:8080/"
        },
        "id": "a6BVORq4FZc3",
        "outputId": "b4bf07d7-9ddf-4890-bcee-6ab051fdb60a"
      },
      "outputs": [
        {
          "data": {
            "text/plain": [
              "<matplotlib.axes._subplots.AxesSubplot at 0x7f743da456d0>"
            ]
          },
          "execution_count": 41,
          "metadata": {},
          "output_type": "execute_result"
        },
        {
          "data": {
            "image/png": "[encoded data removed]",
            "text/plain": [
              "<Figure size 432x288 with 2 Axes>"
            ]
          },
          "metadata": {
            "needs_background": "light"
          },
          "output_type": "display_data"
        }
      ],
      "source": [
        "X = dataset[model_columns]\n",
        "y = dataset[target_column]\n",
        "\n",
        "X_train, X_test, y_train, y_test = train_test_split(X, y, train_size=TRAIN_SIZE, stratify=y)\n",
        "\n",
        "logistic_regressor = LogisticRegression(max_iter=1000000).fit(X_train, y_train)\n",
        "\n",
        "y_pred_logreg = logistic_regressor.predict(X_test)\n",
        "\n",
        "clf_report_logreg = classification_report(y_test, y_pred_logreg, target_names= label_encoder.classes_, output_dict=True)\n",
        "\n",
        "sns.heatmap(pd.DataFrame(clf_report_logreg).iloc[:-1, :].T, annot=True)"
      ]
    },
    {
      "cell_type": "code",
      "execution_count": null,
      "metadata": {
        "id": "PvL5o_ujQpv7"
      },
      "outputs": [],
      "source": [
        "#Também não deu muito certo\n",
        "#Porém os valores de precision, recall e F1 foram mais balanceados"
      ]
    }
  ],
  "metadata": {
    "colab": {
      "provenance": []
    },
    "kernelspec": {
      "display_name": "Python 3.11.0 64-bit",
      "language": "python",
      "name": "python3"
    },
    "language_info": {
      "codemirror_mode": {
        "name": "ipython",
        "version": 3
      },
      "file_extension": ".py",
      "mimetype": "text/x-python",
      "name": "python",
      "nbconvert_exporter": "python",
      "pygments_lexer": "ipython3",
      "version": "3.11.0"
    },
    "vscode": {
      "interpreter": {
        "hash": "c261aea317cc0286b3b3261fbba9abdec21eaa57589985bb7a274bf54d6cc0a7"
      }
    }
  },
  "nbformat": 4,
  "nbformat_minor": 0
}
